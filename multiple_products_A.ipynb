{
 "cells": [
  {
   "cell_type": "markdown",
   "metadata": {},
   "source": [
    "# Logistic Regression"
   ]
  },
  {
   "cell_type": "code",
   "execution_count": 1,
   "metadata": {
    "collapsed": false
   },
   "outputs": [],
   "source": [
    "import math\n",
    "import numpy as np\n",
    "import pandas as pd\n",
    "import sklearn.linear_model\n",
    "import statsmodels.api as sm\n",
    "import matplotlib.pyplot as plt"
   ]
  },
  {
   "cell_type": "markdown",
   "metadata": {
    "collapsed": true
   },
   "source": [
    "## Simulierte Daten"
   ]
  },
  {
   "cell_type": "code",
   "execution_count": 27,
   "metadata": {
    "collapsed": false
   },
   "outputs": [],
   "source": [
    "def generate_prices(observations_count, prices_range):\n",
    "    return np.random.choice(prices_range, observations_count)\n",
    "\n",
    "def generate_competitor_prices(observations_count, competitors_count, prices_range):\n",
    "    return np.matrix([generate_prices(observations_count, prices_range) for i in range(0, competitors_count)])\n",
    "    \n",
    "def calculate_ranks(observations_count, competitors_count, competitor_prices, prices):\n",
    "    return [1 + len([1 for j in range(competitors_count) if competitor_prices[j,i] < prices[i]])\n",
    "            for i in range(observations_count)]\n",
    "\n",
    "def calculate_sold_probs_A(observations_count, ranks, competitors_count, prices):\n",
    "    max_prob = lambda i: 1 - ((0.3 * ranks[0][i])/(competitors_count[0] + 1)) - 0.05 * prices[0][i] + (-0.0125 * (prices[0][i] - prices[1][i]) + 0.25)\n",
    "    return [np.maximum(0, np.round(np.random.uniform(0, max_prob(i)))) for i in range(observations_count)]\n",
    "\n",
    "def calculate_sold_probs_B(observations_count, ranks, competitors_count, prices):\n",
    "    max_prob = lambda i: 1 - ((0.3 * ranks[1][i])/(competitors_count[1] + 1)) - 0.05 * prices[1][i] + (0.0125 * (prices[0][i] - prices[1][i]) + 0.25)\n",
    "    return [np.maximum(0, np.round(np.random.uniform(0, max_prob(i)))) for i in range(observations_count)]\n",
    "\n",
    "observations_count = 1000\n",
    "prices_ranges = [np.arange(1, 20.1, 0.1) for i in range(2)] #TODO adopt prob function if price changes\n",
    "prices = [generate_prices(observations_count, prices_ranges[i]) for i in range(2)] # TODO p1 > p2?\n",
    "competitors_count = [5, 5]\n",
    "competitor_prices = [generate_competitor_prices(observations_count, competitors_count[i], prices_ranges[i]) for i in range(2)]\n",
    "ranks = [calculate_ranks(observations_count, competitors_count[i], competitor_prices[i], prices[i]) for i in range(2)]\n",
    "sold = [calculate_sold_probs_A(observations_count, ranks, competitors_count, prices),\n",
    "        calculate_sold_probs_B(observations_count, ranks, competitors_count, prices)]"
   ]
  },
  {
   "cell_type": "markdown",
   "metadata": {},
   "source": [
    "## Regression"
   ]
  },
  {
   "cell_type": "code",
   "execution_count": 28,
   "metadata": {
    "collapsed": false
   },
   "outputs": [
    {
     "name": "stdout",
     "output_type": "stream",
     "text": [
      "Optimization terminated successfully.\n",
      "         Current function value: 0.375414\n",
      "         Iterations 7\n",
      "Optimization terminated successfully.\n",
      "         Current function value: 0.377487\n",
      "         Iterations 7\n"
     ]
    },
    {
     "data": {
      "text/plain": [
       "[array([ 0.42237045, -0.28880732, -0.19256854]),\n",
       " array([ 0.35702097, -0.3539194 , -0.16331534])]"
      ]
     },
     "execution_count": 28,
     "metadata": {},
     "output_type": "execute_result"
    }
   ],
   "source": [
    "def get_explanatory_vars_A(observations_count, competitors_count, ranks, competitor_prices):\n",
    "    explanatory_1 = [1 for j in range(observations_count)]\n",
    "    explanatory_2 = [ranks[0][j] for j in range(observations_count)]\n",
    "    explanatory_3 = [prices[0][j] - np.min([competitor_prices[0][k,j] for k in range(0, competitors_count[0])]) for j in range(observations_count)]\n",
    "    return np.matrix([explanatory_1, explanatory_2, explanatory_3])\n",
    "\n",
    "def get_explanatory_vars_B(observations_count, competitors_count, ranks, competitor_prices):\n",
    "    explanatory_1 = [1 for j in range(observations_count)]\n",
    "    explanatory_2 = [ranks[1][j] for j in range(observations_count)]\n",
    "    explanatory_3 = [prices[1][j] - np.min([competitor_prices[1][k,j] for k in range(0, competitors_count[1])]) for j in range(observations_count)]\n",
    "    return np.matrix([explanatory_1, explanatory_2, explanatory_3])\n",
    "\n",
    "explanatory_vars = [get_explanatory_vars_A(observations_count, competitors_count, ranks, competitor_prices),\n",
    "                    get_explanatory_vars_B(observations_count, competitors_count, ranks, competitor_prices)]\n",
    "logits = [sm.Logit(sold[i], explanatory_vars[i].transpose()) for i in range(2)]\n",
    "results = [logits[i].fit() for i in range(2)]\n",
    "beta = [results[i].params for i in range(2)]\n",
    "beta"
   ]
  },
  {
   "cell_type": "code",
   "execution_count": 32,
   "metadata": {
    "collapsed": false
   },
   "outputs": [
    {
     "data": {
      "text/plain": [
       "[756.82862886997259, 760.97389058498811]"
      ]
     },
     "execution_count": 32,
     "metadata": {},
     "output_type": "execute_result"
    }
   ],
   "source": [
    "[results[i].aic for i in range(2)]"
   ]
  },
  {
   "cell_type": "markdown",
   "metadata": {},
   "source": [
    "## Optimierung"
   ]
  },
  {
   "cell_type": "code",
   "execution_count": 55,
   "metadata": {
    "collapsed": false
   },
   "outputs": [
    {
     "data": {
      "text/plain": [
       "array([[[ 0.        ,  0.        ,  0.        ],\n",
       "        [ 0.        , -0.19123585, -0.3824717 ],\n",
       "        [ 0.        , -0.19123585, -1.22717935]],\n",
       "\n",
       "       [[ 0.        ,  0.        ,  0.        ],\n",
       "        [ 0.        , -0.17296551, -0.34593101],\n",
       "        [ 0.        , -0.17296551, -1.02620555]],\n",
       "\n",
       "       [[ 0.        ,  0.        ,  0.        ],\n",
       "        [ 0.        , -0.15451061, -0.30902122],\n",
       "        [ 0.        , -0.15451061, -0.84165661]],\n",
       "\n",
       "       [[ 0.        ,  0.        ,  0.        ],\n",
       "        [ 0.        , -0.1358693 , -0.27173861],\n",
       "        [ 0.        , -0.1358693 , -0.67388485]],\n",
       "\n",
       "       [[ 0.        ,  0.        ,  0.        ],\n",
       "        [ 0.        , -0.1170397 , -0.2340794 ],\n",
       "        [ 0.        , -0.1170397 , -0.52324803]],\n",
       "\n",
       "       [[ 0.        ,  0.        ,  0.        ],\n",
       "        [ 0.        , -0.0980199 , -0.1960398 ],\n",
       "        [ 0.        , -0.0980199 , -0.39010942]],\n",
       "\n",
       "       [[ 0.        ,  0.        ,  0.        ],\n",
       "        [ 0.        , -0.07880798, -0.15761596],\n",
       "        [ 0.        , -0.07880798, -0.2748379 ]],\n",
       "\n",
       "       [[ 0.        ,  0.        ,  0.        ],\n",
       "        [ 0.        , -0.059402  , -0.118804  ],\n",
       "        [ 0.        , -0.059402  , -0.177808  ]],\n",
       "\n",
       "       [[ 0.        ,  0.        ,  0.        ],\n",
       "        [ 0.        , -0.0398    , -0.0796    ],\n",
       "        [ 0.        , -0.0398    , -0.0994    ]],\n",
       "\n",
       "       [[ 0.        ,  0.        ,  0.        ],\n",
       "        [ 0.        , -0.02      , -0.04      ],\n",
       "        [ 0.        , -0.02      , -0.04      ]],\n",
       "\n",
       "       [[ 0.        ,  0.        ,  0.        ],\n",
       "        [ 0.        ,  0.        ,  0.        ],\n",
       "        [ 0.        ,  0.        ,  0.        ]]])"
      ]
     },
     "execution_count": 55,
     "metadata": {},
     "output_type": "execute_result"
    }
   ],
   "source": [
    "def get_price_index(price):\n",
    "    return int(price / 0.1 - 10) # TODO dependent on price range?\n",
    "\n",
    "def calculate_sale_probs(beta, explanatory_vars, prices_range):\n",
    "    L = lambda price: np.sum([beta[m] * explanatory_vars[m,get_price_index(price)] for m in range(explanatory_vars.shape[0])])\n",
    "    return [np.exp(L(price)) / (1 + np.exp(L(price))) for price in prices_range]\n",
    "\n",
    "def bellman(n, sale_probs, prices_range, holding_cost_rate, delta, values, step):\n",
    "    prob_A = lambda price: np.sum([sale_probs[0, i, get_price_index(price)] for i in range(2)])\n",
    "    prob_B = lambda price: np.sum([sale_probs[1, i, get_price_index(price)] for i in range(2)])\n",
    "    todays_profit = lambda prices: np.sum([np.min([n[j], i]) * prices[j] - n[j] * holding_cost_rate[j] for (i, j) in (range(2), range(2))])\n",
    "    disc_exp_fut_profits = np.sum([delta * values[step + 1, np.max([0, n[0]-i]), np.max([0, n[1]-i])] for i in range(2)])\n",
    "    \n",
    "    bellman_for_combinations = []\n",
    "    for price_A in prices_range[0]:\n",
    "        for price_B in prices_range[1]:\n",
    "            bellman_for_combinations.append(prob_A(price_A) * prob_B(price_B) * (todays_profit([price_A, price_B]) + disc_exp_fut_profits))\n",
    "    return np.max(bellman_for_combinations)\n",
    "\n",
    "competitor_prices = [generate_competitor_prices(observations_count, competitors_count[i], prices_ranges[i]) for i in range(2)]\n",
    "explanatory_vars = [get_explanatory_vars_A(observations_count, competitors_count, ranks, competitor_prices),\n",
    "                    get_explanatory_vars_B(observations_count, competitors_count, ranks, competitor_prices)]\n",
    "\n",
    "p = [calculate_sale_probs(beta[i], explanatory_vars[i], prices_range[i]) for i in range(2)]\n",
    "sale_probs = np.array([[[1 - j for j in p[i]], p[i]] for i in range(2)])\n",
    "\n",
    "delta = 0.99\n",
    "holding_cost_rate = [0.01, 0.01]\n",
    "init_inventory = [3, 3]\n",
    "steps = 10\n",
    "values = np.empty(shape=(steps + 1, init_inventory[0], init_inventory[1]))\n",
    "for step in range(steps, -1, -1):\n",
    "    for n_A in range(init_inventory[0]):\n",
    "        for n_B in range(init_inventory[1]):\n",
    "            if step == steps or n_A == 0 or n_B == 0:\n",
    "                values[step, n_A, n_B] = 0\n",
    "            else:\n",
    "                values[step, n_A, n_B] = bellman([n_A, n_B], sale_probs, prices_range, holding_cost_rate, delta, values, step)\n",
    "\n",
    "\"\"\"\n",
    "opt_prices = np.empty(init_inventory)\n",
    "for n in range(init_inventory):\n",
    "    for price in prices_range:\n",
    "        if np.sum([sale_prob[i,get_price_index(price)]*(np.min([n,i]) * price - n * holding_cost_rate + delta * values[1, np.max([0, n-i])]) for i in range(2)]) == values[0, n]:\n",
    "            opt_prices[n] = price\n",
    "opt_values = [values[0,n] for n in range(init_inventory)]\n",
    "opt_prices\n",
    "\"\"\"\n",
    "values"
   ]
  },
  {
   "cell_type": "code",
   "execution_count": null,
   "metadata": {
    "collapsed": true
   },
   "outputs": [],
   "source": []
  }
 ],
 "metadata": {
  "kernelspec": {
   "display_name": "Python 3",
   "language": "python",
   "name": "python3"
  },
  "language_info": {
   "codemirror_mode": {
    "name": "ipython",
    "version": 3
   },
   "file_extension": ".py",
   "mimetype": "text/x-python",
   "name": "python",
   "nbconvert_exporter": "python",
   "pygments_lexer": "ipython3",
   "version": "3.5.1"
  }
 },
 "nbformat": 4,
 "nbformat_minor": 0
}
