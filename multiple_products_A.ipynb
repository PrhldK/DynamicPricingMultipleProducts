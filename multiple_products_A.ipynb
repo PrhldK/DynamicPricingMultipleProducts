{
 "cells": [
  {
   "cell_type": "markdown",
   "metadata": {},
   "source": [
    "# Logistic Regression"
   ]
  },
  {
   "cell_type": "code",
   "execution_count": 1,
   "metadata": {
    "collapsed": false
   },
   "outputs": [],
   "source": [
    "%matplotlib inline\n",
    "\n",
    "import math\n",
    "import numpy as np\n",
    "import pandas as pd\n",
    "import sklearn.linear_model\n",
    "import statsmodels.api as sm\n",
    "import matplotlib.pyplot as plt"
   ]
  },
  {
   "cell_type": "markdown",
   "metadata": {
    "collapsed": true
   },
   "source": [
    "## Simulierte Daten"
   ]
  },
  {
   "cell_type": "code",
   "execution_count": 2,
   "metadata": {
    "collapsed": false
   },
   "outputs": [],
   "source": [
    "def generate_prices(observations_count, prices_range):\n",
    "    return np.random.choice(prices_range, observations_count)\n",
    "\n",
    "def generate_competitor_prices(observations_count, competitors_count, prices_range):\n",
    "    return np.matrix([generate_prices(observations_count, prices_range) for i in range(0, competitors_count)])\n",
    "    \n",
    "def calculate_ranks(observations_count, competitors_count, competitor_prices, prices):\n",
    "    return [1 + len([1 for j in range(competitors_count) if competitor_prices[j,i] < prices[i]])\n",
    "            for i in range(observations_count)]\n",
    "\n",
    "def calculate_sold_probs_A(observations_count, ranks, competitors_count, prices):\n",
    "    max_prob = lambda i: 1 - ((0.3 * ranks[0][i])/(competitors_count[0] + 1)) - 0.05 * prices[0][i] + (-0.0125 * (prices[0][i] - prices[1][i]) + 0.25)\n",
    "    return [np.maximum(0, np.round(np.random.uniform(0, max_prob(i)))) for i in range(observations_count)]\n",
    "\n",
    "def calculate_sold_probs_B(observations_count, ranks, competitors_count, prices):\n",
    "    max_prob = lambda i: 1 - ((0.3 * ranks[1][i])/(competitors_count[1] + 1)) - 0.05 * prices[1][i] + (0.0125 * (prices[0][i] - prices[1][i]) + 0.25)\n",
    "    return [np.maximum(0, np.round(np.random.uniform(0, max_prob(i)))) for i in range(observations_count)]\n",
    "\n",
    "observations_count = 1000\n",
    "prices_ranges = [np.arange(1, 20.1, 0.1) for i in range(2)] #TODO adopt prob function if price changes\n",
    "prices = [generate_prices(observations_count, prices_ranges[i]) for i in range(2)] # TODO p1 > p2?\n",
    "competitors_count = [2, 2]\n",
    "competitor_prices = [generate_competitor_prices(observations_count, competitors_count[i], prices_ranges[i]) for i in range(2)]\n",
    "ranks = [calculate_ranks(observations_count, competitors_count[i], competitor_prices[i], prices[i]) for i in range(2)]\n",
    "sold = [calculate_sold_probs_A(observations_count, ranks, competitors_count, prices),\n",
    "        calculate_sold_probs_B(observations_count, ranks, competitors_count, prices)]"
   ]
  },
  {
   "cell_type": "markdown",
   "metadata": {},
   "source": [
    "## Regression"
   ]
  },
  {
   "cell_type": "code",
   "execution_count": 3,
   "metadata": {
    "collapsed": false
   },
   "outputs": [
    {
     "name": "stdout",
     "output_type": "stream",
     "text": [
      "Optimization terminated successfully.\n",
      "         Current function value: 0.353806\n",
      "         Iterations 11\n",
      "Optimization terminated successfully.\n",
      "         Current function value: 0.334113\n",
      "         Iterations 11\n"
     ]
    },
    {
     "data": {
      "text/plain": [
       "[array([ 0.42649208, -0.84314137, -0.08157649, -0.03072875, -0.03500331]),\n",
       " array([ 0.54854323, -0.64243022, -0.14920694, -0.18757081, -0.03838102])]"
      ]
     },
     "execution_count": 3,
     "metadata": {},
     "output_type": "execute_result"
    }
   ],
   "source": [
    "def get_explanatory_vars_A(observations_count, competitors_count, ranks, competitor_prices):\n",
    "    explanatory_1 = [1 for j in range(observations_count)]\n",
    "    explanatory_2 = [ranks[0][j] for j in range(observations_count)]\n",
    "    \n",
    "    def get_all_competitor_prices(j):\n",
    "        for i in range(2):\n",
    "            for k in range(competitors_count[i]):\n",
    "                yield competitor_prices[i][k,j]\n",
    "    explanatory_3 = [prices[0][j] - np.min(list(get_all_competitor_prices(j))) for j in range(observations_count)]\n",
    "    explanatory_4 = [prices[0][j] - np.min([prices[i][j] for i in range(2)]) for j in range(observations_count)]\n",
    "    explanatory_5 = [math.pow(explanatory_4[j], 2) for j in range(observations_count)]\n",
    "    return np.matrix([explanatory_1, explanatory_2, explanatory_3, explanatory_4, explanatory_5])\n",
    "\n",
    "def get_explanatory_vars_B(observations_count, competitors_count, ranks, competitor_prices):\n",
    "    explanatory_1 = [1 for j in range(observations_count)]\n",
    "    explanatory_2 = [ranks[1][j] for j in range(observations_count)]\n",
    "    \n",
    "    def get_all_competitor_prices(j):\n",
    "        for i in range(2):\n",
    "            for k in range(competitors_count[i]):\n",
    "                yield competitor_prices[i][k,j]\n",
    "    explanatory_3 = [prices[1][j] - np.min(list(get_all_competitor_prices(j))) for j in range(observations_count)]\n",
    "    explanatory_4 = [prices[1][j] - np.min([prices[i][j] for i in range(2)]) for j in range(observations_count)]\n",
    "    explanatory_5 = [math.pow(explanatory_4[j], 2) for j in range(observations_count)]\n",
    "    return np.matrix([explanatory_1, explanatory_2, explanatory_3, explanatory_4, explanatory_5])\n",
    "\n",
    "explanatory_vars = [get_explanatory_vars_A(observations_count, competitors_count, ranks, competitor_prices),\n",
    "                    get_explanatory_vars_B(observations_count, competitors_count, ranks, competitor_prices)]\n",
    "logits = [sm.Logit(sold[i], explanatory_vars[i].transpose()) for i in range(2)]\n",
    "results = [logits[i].fit() for i in range(2)]\n",
    "beta = [results[i].params for i in range(2)]\n",
    "beta"
   ]
  },
  {
   "cell_type": "code",
   "execution_count": 4,
   "metadata": {
    "collapsed": false,
    "scrolled": true
   },
   "outputs": [
    {
     "data": {
      "text/plain": [
       "[717.61141402060275, 678.22618554690143]"
      ]
     },
     "execution_count": 4,
     "metadata": {},
     "output_type": "execute_result"
    }
   ],
   "source": [
    "[results[i].aic for i in range(2)]"
   ]
  },
  {
   "cell_type": "markdown",
   "metadata": {},
   "source": [
    "## Optimierung"
   ]
  },
  {
   "cell_type": "code",
   "execution_count": 5,
   "metadata": {
    "collapsed": false
   },
   "outputs": [],
   "source": [
    "def get_price_index(price):\n",
    "    return int(price / 0.1 - 10) # TODO dependent on price range?\n",
    "\n",
    "def calculate_sale_probs(beta, explanatory_vars, prices_ranges):\n",
    "    L = lambda price_A, price_B: np.sum([beta[m] * explanatory_vars[m, get_price_index(price_A), get_price_index(price_B)] for m in range(len(beta))])\n",
    "    return np.matrix([[np.exp(L(price_A, price_B)) / (1 + np.exp(L(price_A, price_B))) for price_B in prices_ranges[1]] for price_A in prices_ranges[0]])\n",
    "\n",
    "def bellman(n, sale_probs, prices_range, holding_cost_rate, delta, values, step):\n",
    "    prob_A = lambda price_A, price_B, i: sale_probs[get_price_index(price_A), get_price_index(price_B), 0, i]\n",
    "    prob_B = lambda price_A, price_B, i: sale_probs[get_price_index(price_A), get_price_index(price_B), 1, i]\n",
    "    todays_profit = lambda prices, j, i: np.min([n[j], i]) * prices[j] - n[j] * holding_cost_rate[j]\n",
    "    disc_exp_fut_profits = lambda i, j: delta * values[step + 1, np.max([0, n[0]-i]), np.max([0, n[1]-j])]\n",
    "\n",
    "    bellman_for_combinations = []\n",
    "    for price_A in prices_range[0]:\n",
    "        for price_B in prices_range[1]:\n",
    "            bellman_for_combinations.append(np.sum([prob_A(price_A, price_B, i) * np.sum([prob_B(price_A, price_B, j) * ((todays_profit([price_A, price_B], 0, i)+todays_profit([price_A, price_B], 1, j)) + disc_exp_fut_profits(i,j)) for j in range(2)]) for i in range(2)]))\n",
    "    return np.max(bellman_for_combinations)\n",
    "\n",
    "def bellman_check(n, sale_probs, prices, holding_cost_rate, delta, values, t):\n",
    "    prob_A = lambda price_A, price_B, i: sale_probs[get_price_index(price_A), get_price_index(price_B), 0, i]\n",
    "    prob_B = lambda price_A, price_B, i: sale_probs[get_price_index(price_A), get_price_index(price_B), 1, i]\n",
    "    todays_profit = lambda prices, j, i: np.min([n[j], i]) * prices[j] - n[j] * holding_cost_rate[j]\n",
    "    disc_exp_fut_profits = lambda i, j: delta * values[t + 1, np.max([0, n[0]-i]), np.max([0, n[1]-j])]\n",
    "\n",
    "    return np.sum([prob_A(prices[0], prices[1], i) * np.sum([prob_B(prices[0], prices[1], j) * ((todays_profit(prices, 0, i)+todays_profit(prices, 1, j)) + disc_exp_fut_profits(i,j)) for j in range(2)]) for i in range(2)])"
   ]
  },
  {
   "cell_type": "code",
   "execution_count": 6,
   "metadata": {
    "collapsed": false
   },
   "outputs": [],
   "source": [
    "competitor_prices = [generate_prices(competitors_count[i],prices_ranges[i]) for i in range(2)]\n",
    "\n",
    "def get_explanatory_vars_A(prices_ranges, competitors_count, competitor_prices):\n",
    "    def get_all_competitor_prices():\n",
    "        for i in range(2):\n",
    "            for k in range(competitors_count[i]):\n",
    "                yield competitor_prices[i][k]\n",
    "    \n",
    "    explanatory_1 = np.matrix([[1 for price_A in prices_ranges[0]] for price_B in prices_ranges[1]])\n",
    "    explanatory_2 = np.matrix([[1 + len([1 for j in range(competitors_count[0]) if competitor_prices[0][j] < price_A]) for price_B in prices_ranges[1]] for price_B in prices_ranges[0]])\n",
    "    explanatory_3 = np.matrix([[price_A - np.min(list(get_all_competitor_prices())) for price_B in prices_ranges[1]] for price_A in prices_ranges[0]])\n",
    "    explanatory_4 = np.matrix([[price_A - np.min([price_A, price_B]) for price_B in prices_ranges[1]] for price_A in prices_ranges[0]])\n",
    "    explanatory_5 = np.matrix([[math.pow(explanatory_4[price_A, price_B], 2) for price_B in prices_ranges[1]] for price_A in prices_ranges[0]])\n",
    "    \n",
    "    return np.array([explanatory_1, explanatory_2, explanatory_3, explanatory_4, explanatory_5])\n",
    "\n",
    "def get_explanatory_vars_B(prices_ranges, competitors_count, competitor_prices):\n",
    "    def get_all_competitor_prices():\n",
    "        for i in range(2):\n",
    "            for k in range(competitors_count[i]):\n",
    "                yield competitor_prices[i][k]\n",
    "    \n",
    "    explanatory_1 = np.matrix([[1 for price_A in prices_ranges[0]] for price_B in prices_ranges[1]])\n",
    "    explanatory_2 = np.matrix([[1 + len([1 for j in range(competitors_count[1]) if competitor_prices[1][j] < price_B]) for price_A in prices_ranges[0]] for price_B in prices_ranges[1]])\n",
    "    explanatory_3 = np.matrix([[price_B - np.min(list(get_all_competitor_prices())) for price_B in prices_ranges[1]] for price_A in prices_ranges[0]])\n",
    "    explanatory_4 = np.matrix([[price_B - np.min([price_A, price_B]) for price_B in prices_ranges[1]] for price_A in prices_ranges[0]])\n",
    "    explanatory_5 = np.matrix([[math.pow(explanatory_4[price_A, price_B], 2) for price_B in prices_ranges[1]] for price_A in prices_ranges[0]])\n",
    "    \n",
    "    return np.array([explanatory_1, explanatory_2, explanatory_3, explanatory_4, explanatory_5])\n",
    "\n",
    "explanatory_vars = [get_explanatory_vars_A(prices_ranges, competitors_count, competitor_prices),\n",
    "                    get_explanatory_vars_B(prices_ranges, competitors_count, competitor_prices)]"
   ]
  },
  {
   "cell_type": "code",
   "execution_count": 7,
   "metadata": {
    "collapsed": false
   },
   "outputs": [],
   "source": [
    "p = [calculate_sale_probs(beta[i], explanatory_vars[i], prices_ranges) for i in range(2)]\n",
    "sale_probs = np.array([[[[1 - p[i][get_price_index(price_A), get_price_index(price_B)], p[i][get_price_index(price_A), get_price_index(price_B)]] for i in range(2)] for price_B in prices_ranges[1]] for price_A in prices_ranges[0]])"
   ]
  },
  {
   "cell_type": "code",
   "execution_count": 8,
   "metadata": {
    "collapsed": false
   },
   "outputs": [
    {
     "data": {
      "text/plain": [
       "0.85324857622985018"
      ]
     },
     "execution_count": 8,
     "metadata": {},
     "output_type": "execute_result"
    }
   ],
   "source": [
    "sale_probs[0][0][0][0]"
   ]
  },
  {
   "cell_type": "code",
   "execution_count": 9,
   "metadata": {
    "collapsed": false,
    "scrolled": false
   },
   "outputs": [
    {
     "name": "stdout",
     "output_type": "stream",
     "text": [
      "n_A: 0,n_B: 0 - A: 0.0,B: 0.0\n",
      "n_A: 0,n_B: 1 - A: 0.0,B: 0.0\n",
      "n_A: 0,n_B: 2 - A: 0.0,B: 0.0\n",
      "n_A: 0,n_B: 3 - A: 0.0,B: 0.0\n",
      "n_A: 1,n_B: 0 - A: 0.0,B: 0.0\n",
      "n_A: 1,n_B: 1 - A: 19.8,B: 20.0\n",
      "n_A: 1,n_B: 2 - A: 19.8,B: 15.9\n",
      "n_A: 1,n_B: 3 - A: 19.8,B: 13.4\n",
      "n_A: 2,n_B: 0 - A: 0.0,B: 0.0\n",
      "n_A: 2,n_B: 1 - A: 19.9,B: 20.0\n",
      "n_A: 2,n_B: 2 - A: 19.8,B: 19.8\n",
      "n_A: 2,n_B: 3 - A: 19.8,B: 17.3\n",
      "n_A: 3,n_B: 0 - A: 0.0,B: 0.0\n",
      "n_A: 3,n_B: 1 - A: 12.7,B: 20.0\n",
      "n_A: 3,n_B: 2 - A: 19.8,B: 19.8\n",
      "n_A: 3,n_B: 3 - A: 18.5,B: 18.5\n"
     ]
    }
   ],
   "source": [
    "delta = 0.99\n",
    "holding_cost_rate = [0.01, 0.01]\n",
    "init_inventory = [3, 3]\n",
    "steps = 50\n",
    "values = np.empty(shape=(steps + 1, init_inventory[0] + 1, init_inventory[1] + 1))\n",
    "for step in range(steps, -1, -1):\n",
    "    for n_A in range(init_inventory[0] + 1):\n",
    "        for n_B in range(init_inventory[1] + 1):\n",
    "            if step == steps or n_A == 0 or n_B == 0:\n",
    "                values[step, n_A, n_B] = 0\n",
    "            else:\n",
    "                values[step, n_A, n_B] = bellman([n_A, n_B], sale_probs, prices_ranges, holding_cost_rate, delta, values, step)\n",
    "\n",
    "def opt_p(t):\n",
    "    opt_prices = np.zeros(shape=(init_inventory[0] + 1, init_inventory[1] + 1, 2))\n",
    "    for n_A in range(1, init_inventory[0] + 1):\n",
    "        for n_B in range(1, init_inventory[1] + 1):\n",
    "            for price_A in prices_ranges[0]:\n",
    "                for price_B in prices_ranges[1]:\n",
    "                    if bellman_check([n_A, n_B], sale_probs, [price_A, price_B], holding_cost_rate, delta, values, t) == values[t, n_A, n_B]:\n",
    "                        opt_prices[n_A, n_B, 0] = price_A\n",
    "                        opt_prices[n_A, n_B, 1] = price_B\n",
    "    return opt_prices\n",
    "                    \n",
    "opt_prices = opt_p(0)\n",
    "for n_A in range(init_inventory[0] + 1):\n",
    "    for n_B in range(init_inventory[1] + 1):\n",
    "        print('n_A: ' + str(n_A) + ',n_B: ' + str(n_B) + ' - A: ' + str(opt_prices[n_A, n_B, 0]) + ',B: ' + str(opt_prices[n_A, n_B, 1]))"
   ]
  },
  {
   "cell_type": "markdown",
   "metadata": {
    "collapsed": true
   },
   "source": [
    "## Simulation"
   ]
  },
  {
   "cell_type": "code",
   "execution_count": 10,
   "metadata": {
    "collapsed": false
   },
   "outputs": [],
   "source": [
    "c_prices_time_A = np.empty(shape=(competitors_count[0], steps))\n",
    "for c in range(competitors_count[0]):\n",
    "    c_prices_time_A[c,0] = competitor_prices[0][c]\n",
    "c_prices_time_B = np.empty(shape=(competitors_count[1], steps))\n",
    "for c in range(competitors_count[1]):\n",
    "    c_prices_time_B[c,0] = competitor_prices[1][c]\n",
    "    \n",
    "inventory_time_A = np.empty(shape=(steps))\n",
    "for t in range(steps):\n",
    "    inventory_time_A[t] = init_inventory[0]\n",
    "inventory_time_B = np.empty(shape=(steps))\n",
    "for t in range(steps):\n",
    "    inventory_time_B[t] = init_inventory[1]\n",
    "\n",
    "o_prices_time_A = np.zeros(shape=(steps))\n",
    "o_prices_time_B = np.zeros(shape=(steps))\n",
    "o_prices_time_A[0] = opt_prices[init_inventory[0], init_inventory[1]][0]\n",
    "o_prices_time_B[0] = opt_prices[init_inventory[0], init_inventory[1]][1]\n",
    "\n",
    "for t in range(1,steps):\n",
    "    if ((inventory_time_A[t] > 0) and (np.random.uniform(0,1) < sale_probs[get_price_index(o_prices_time_A[t-1]), get_price_index(o_prices_time_B[t-1]), 0, 1])):\n",
    "        inventory_time_A[t] = np.max([0, inventory_time_A[t-1]-1])\n",
    "    else:\n",
    "        inventory_time_A[t] = inventory_time_A[t-1]\n",
    "        \n",
    "    if ((inventory_time_B[t] > 0) and (np.random.uniform(0,1) < sale_probs[get_price_index(o_prices_time_A[t-1]), get_price_index(o_prices_time_B[t-1]), 1, 1])):\n",
    "        inventory_time_B[t] = np.max([0, inventory_time_B[t-1]-1])\n",
    "    else:\n",
    "        inventory_time_B[t] = inventory_time_B[t-1]\n",
    "        \n",
    "    #for c in range(competitors_count):\n",
    "        #if (np.random.uniform(0,1) < 0.2):\n",
    "            #c_prices_time[c,t]= np.round(c_prices_time[c,t-1] * np.random.uniform(0.8, 1.2), 1)\n",
    "            \n",
    "    if (inventory_time_A[t] > 0) or (inventory_time_B[t] > 0):\n",
    "        opt_prices_n = opt_p(t)\n",
    "        o_prices_time_A[t] = opt_prices_n[int(inventory_time_A[t]), int(inventory_time_B[t])][0]\n",
    "        o_prices_time_B[t] = opt_prices_n[int(inventory_time_A[t]), int(inventory_time_B[t])][1]"
   ]
  },
  {
   "cell_type": "code",
   "execution_count": 11,
   "metadata": {
    "collapsed": false
   },
   "outputs": [
    {
     "data": {
      "text/plain": [
       "array([ 3.,  3.,  3.,  3.,  3.,  3.,  3.,  3.,  3.,  3.,  3.,  3.,  3.,\n",
       "        3.,  3.,  3.,  3.,  3.,  3.,  3.,  3.,  3.,  3.,  3.,  3.,  3.,\n",
       "        3.,  3.,  3.,  3.,  3.,  3.,  3.,  3.,  3.,  3.,  3.,  3.,  3.,\n",
       "        3.,  3.,  3.,  2.,  2.,  2.,  2.,  2.,  2.,  2.,  2.])"
      ]
     },
     "execution_count": 11,
     "metadata": {},
     "output_type": "execute_result"
    }
   ],
   "source": [
    "inventory_time_A"
   ]
  },
  {
   "cell_type": "code",
   "execution_count": 12,
   "metadata": {
    "collapsed": false
   },
   "outputs": [
    {
     "data": {
      "text/plain": [
       "array([ 3.,  3.,  3.,  3.,  3.,  3.,  2.,  2.,  2.,  2.,  2.,  2.,  2.,\n",
       "        2.,  2.,  2.,  2.,  2.,  2.,  2.,  2.,  2.,  2.,  1.,  1.,  1.,\n",
       "        1.,  1.,  1.,  1.,  1.,  1.,  1.,  1.,  1.,  1.,  1.,  1.,  1.,\n",
       "        1.,  1.,  1.,  1.,  1.,  1.,  1.,  1.,  1.,  0.,  0.])"
      ]
     },
     "execution_count": 12,
     "metadata": {},
     "output_type": "execute_result"
    }
   ],
   "source": [
    "inventory_time_B"
   ]
  },
  {
   "cell_type": "code",
   "execution_count": 13,
   "metadata": {
    "collapsed": false
   },
   "outputs": [
    {
     "data": {
      "text/plain": [
       "array([ 18.5,  18.4,  18.3,  18.2,  18.1,  18. ,  19.8,  19.8,  19.8,\n",
       "        19.8,  19.8,  19.8,  19.8,  19.8,  19.8,  19.7,  19.6,  19.4,\n",
       "        19.3,  19.1,  18.9,  18.8,  18.6,  12.9,  12.9,  12.9,  13.1,\n",
       "        13.2,  13.4,  13.5,  13.7,  14. ,  14.2,  14.7,  15.4,  19.8,\n",
       "        19.8,  19.8,  19.7,  19.2,  18.7,  18.1,  17.6,  16.9,  16.1,\n",
       "        15.1,  14.1,  12.8,   0. ,   0. ])"
      ]
     },
     "execution_count": 13,
     "metadata": {},
     "output_type": "execute_result"
    }
   ],
   "source": [
    "o_prices_time_A"
   ]
  },
  {
   "cell_type": "code",
   "execution_count": 14,
   "metadata": {
    "collapsed": false
   },
   "outputs": [
    {
     "data": {
      "text/plain": [
       "array([ 18.5,  18.4,  18.3,  18.2,  18.1,  18. ,  19.8,  19.8,  19.8,\n",
       "        19.8,  19.8,  19.8,  19.8,  19.8,  19.8,  19.7,  19.6,  19.4,\n",
       "        19.3,  19.1,  18.9,  18.8,  18.6,  20. ,  20. ,  20. ,  20. ,\n",
       "        20. ,  20. ,  20. ,  20. ,  20. ,  20. ,  20. ,  20. ,  20. ,\n",
       "        19.8,  19.8,  19.7,  19.2,  18.7,  18.1,  17.6,  16.9,  16.1,\n",
       "        15.1,  14.1,  12.8,   0. ,   0. ])"
      ]
     },
     "execution_count": 14,
     "metadata": {},
     "output_type": "execute_result"
    }
   ],
   "source": [
    "o_prices_time_B"
   ]
  },
  {
   "cell_type": "code",
   "execution_count": 15,
   "metadata": {
    "collapsed": false
   },
   "outputs": [
    {
     "data": {
      "image/png": "[encoded data removed]",
      "text/plain": [
       "<matplotlib.figure.Figure at 0x136e77d0>"
      ]
     },
     "metadata": {},
     "output_type": "display_data"
    }
   ],
   "source": [
    "plt.plot(range(0,50),o_prices_time_A, range(0,50),inventory_time_A)\n",
    "plt.axis([0,50,0,20])\n",
    "plt.show()"
   ]
  },
  {
   "cell_type": "code",
   "execution_count": 16,
   "metadata": {
    "collapsed": false
   },
   "outputs": [
    {
     "data": {
      "image/png": "[encoded data removed]",
      "text/plain": [
       "<matplotlib.figure.Figure at 0x137dfa70>"
      ]
     },
     "metadata": {},
     "output_type": "display_data"
    }
   ],
   "source": [
    "plt.plot(range(0,50),o_prices_time_B, range(0,50),inventory_time_B)\n",
    "plt.axis([0,50,0,20])\n",
    "plt.show()"
   ]
  },
  {
   "cell_type": "code",
   "execution_count": null,
   "metadata": {
    "collapsed": true
   },
   "outputs": [],
   "source": []
  }
 ],
 "metadata": {
  "kernelspec": {
   "display_name": "Python 2",
   "language": "python",
   "name": "python2"
  },
  "language_info": {
   "codemirror_mode": {
    "name": "ipython",
    "version": 2
   },
   "file_extension": ".py",
   "mimetype": "text/x-python",
   "name": "python",
   "nbconvert_exporter": "python",
   "pygments_lexer": "ipython2",
   "version": "2.7.11"
  }
 },
 "nbformat": 4,
 "nbformat_minor": 0
}
