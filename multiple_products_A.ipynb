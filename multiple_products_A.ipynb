{
 "cells": [
  {
   "cell_type": "markdown",
   "metadata": {},
   "source": [
    "# Logistic Regression"
   ]
  },
  {
   "cell_type": "code",
   "execution_count": 1,
   "metadata": {
    "collapsed": false
   },
   "outputs": [],
   "source": [
    "import math\n",
    "import numpy as np\n",
    "import pandas as pd\n",
    "import sklearn.linear_model\n",
    "import statsmodels.api as sm\n",
    "import matplotlib.pyplot as plt"
   ]
  },
  {
   "cell_type": "markdown",
   "metadata": {
    "collapsed": true
   },
   "source": [
    "## Simulierte Daten"
   ]
  },
  {
   "cell_type": "code",
   "execution_count": 2,
   "metadata": {
    "collapsed": false
   },
   "outputs": [],
   "source": [
    "def generate_prices(observations_count, prices_range):\n",
    "    return np.random.choice(prices_range, observations_count)\n",
    "\n",
    "def generate_competitor_prices(observations_count, competitors_count, prices_range):\n",
    "    return np.matrix([generate_prices(observations_count, prices_range) for i in range(0, competitors_count)])\n",
    "    \n",
    "def calculate_ranks(observations_count, competitors_count, competitor_prices, prices):\n",
    "    return [1 + len([1 for j in range(competitors_count) if competitor_prices[j,i] < prices[i]])\n",
    "            for i in range(observations_count)]\n",
    "\n",
    "def calculate_sold_probs_A(observations_count, ranks, competitors_count, prices):\n",
    "    max_prob = lambda i: 1 - ((0.3 * ranks[0][i])/(competitors_count[0] + 1)) - 0.05 * prices[0][i] + (-0.0125 * (prices[0][i] - prices[1][i]) + 0.25)\n",
    "    return [np.maximum(0, np.round(np.random.uniform(0, max_prob(i)))) for i in range(observations_count)]\n",
    "\n",
    "def calculate_sold_probs_B(observations_count, ranks, competitors_count, prices):\n",
    "    max_prob = lambda i: 1 - ((0.3 * ranks[1][i])/(competitors_count[1] + 1)) - 0.05 * prices[1][i] + (0.0125 * (prices[0][i] - prices[1][i]) + 0.25)\n",
    "    return [np.maximum(0, np.round(np.random.uniform(0, max_prob(i)))) for i in range(observations_count)]\n",
    "\n",
    "observations_count = 1000\n",
    "prices_ranges = [np.arange(1, 20.1, 0.1) for i in range(2)] #TODO adopt prob function if price changes\n",
    "prices = [generate_prices(observations_count, prices_ranges[i]) for i in range(2)] # TODO p1 > p2?\n",
    "competitors_count = [5, 5]\n",
    "competitor_prices = [generate_competitor_prices(observations_count, competitors_count[i], prices_ranges[i]) for i in range(2)]\n",
    "ranks = [calculate_ranks(observations_count, competitors_count[i], competitor_prices[i], prices[i]) for i in range(2)]\n",
    "sold = [calculate_sold_probs_A(observations_count, ranks, competitors_count, prices),\n",
    "        calculate_sold_probs_B(observations_count, ranks, competitors_count, prices)]"
   ]
  },
  {
   "cell_type": "markdown",
   "metadata": {},
   "source": [
    "## Regression"
   ]
  },
  {
   "cell_type": "code",
   "execution_count": 3,
   "metadata": {
    "collapsed": false
   },
   "outputs": [
    {
     "name": "stdout",
     "output_type": "stream",
     "text": [
      "Optimization terminated successfully.\n",
      "         Current function value: 0.341628\n",
      "         Iterations 11\n",
      "Optimization terminated successfully.\n",
      "         Current function value: 0.378146\n",
      "         Iterations 10\n"
     ]
    },
    {
     "data": {
      "text/plain": [
       "[array([ 0.87957805, -0.33554044, -0.19526857, -0.04787309, -0.02603562]),\n",
       " array([ 0.7827886 , -0.31014589, -0.1525739 , -0.17402205, -0.01771691])]"
      ]
     },
     "execution_count": 3,
     "metadata": {},
     "output_type": "execute_result"
    }
   ],
   "source": [
    "def get_explanatory_vars_A(observations_count, competitors_count, ranks, competitor_prices):\n",
    "    explanatory_1 = [1 for j in range(observations_count)]\n",
    "    explanatory_2 = [ranks[0][j] for j in range(observations_count)]\n",
    "    \n",
    "    def get_all_competitor_prices(j):\n",
    "        for i in range(2):\n",
    "            for k in range(competitors_count[i]):\n",
    "                yield competitor_prices[i][k,j]\n",
    "    explanatory_3 = [prices[0][j] - np.min(list(get_all_competitor_prices(j))) for j in range(observations_count)]\n",
    "    explanatory_4 = [prices[0][j] - np.min([prices[i][j] for i in range(2)]) for j in range(observations_count)]\n",
    "    explanatory_5 = [math.pow(explanatory_4[j], 2) for j in range(observations_count)]\n",
    "    return np.matrix([explanatory_1, explanatory_2, explanatory_3, explanatory_4, explanatory_5])\n",
    "\n",
    "def get_explanatory_vars_B(observations_count, competitors_count, ranks, competitor_prices):\n",
    "    explanatory_1 = [1 for j in range(observations_count)]\n",
    "    explanatory_2 = [ranks[1][j] for j in range(observations_count)]\n",
    "    \n",
    "    def get_all_competitor_prices(j):\n",
    "        for i in range(2):\n",
    "            for k in range(competitors_count[i]):\n",
    "                yield competitor_prices[i][k,j]\n",
    "    explanatory_3 = [prices[1][j] - np.min(list(get_all_competitor_prices(j))) for j in range(observations_count)]\n",
    "    explanatory_4 = [prices[1][j] - np.min([prices[i][j] for i in range(2)]) for j in range(observations_count)]\n",
    "    explanatory_5 = [math.pow(explanatory_4[j], 2) for j in range(observations_count)]\n",
    "    return np.matrix([explanatory_1, explanatory_2, explanatory_3, explanatory_4, explanatory_5])\n",
    "\n",
    "explanatory_vars = [get_explanatory_vars_A(observations_count, competitors_count, ranks, competitor_prices),\n",
    "                    get_explanatory_vars_B(observations_count, competitors_count, ranks, competitor_prices)]\n",
    "logits = [sm.Logit(sold[i], explanatory_vars[i].transpose()) for i in range(2)]\n",
    "results = [logits[i].fit() for i in range(2)]\n",
    "beta = [results[i].params for i in range(2)]\n",
    "beta"
   ]
  },
  {
   "cell_type": "code",
   "execution_count": 4,
   "metadata": {
    "collapsed": false,
    "scrolled": true
   },
   "outputs": [
    {
     "data": {
      "text/plain": [
       "[693.2563437935587, 766.2924583262751]"
      ]
     },
     "execution_count": 4,
     "metadata": {},
     "output_type": "execute_result"
    }
   ],
   "source": [
    "[results[i].aic for i in range(2)]"
   ]
  },
  {
   "cell_type": "markdown",
   "metadata": {},
   "source": [
    "## Optimierung"
   ]
  },
  {
   "cell_type": "code",
   "execution_count": 5,
   "metadata": {
    "collapsed": false
   },
   "outputs": [],
   "source": [
    "def get_price_index(price):\n",
    "    return int(price / 0.1 - 10) # TODO dependent on price range?\n",
    "\n",
    "def calculate_sale_probs(beta, explanatory_vars, prices_range):\n",
    "    L = lambda price: np.sum([beta[m] * explanatory_vars[m,get_price_index(price)] for m in range(explanatory_vars.shape[0])])\n",
    "    return [np.exp(L(price)) / (1 + np.exp(L(price))) for price in prices_range]\n",
    "\n",
    "def bellman(n, sale_probs, prices_range, holding_cost_rate, delta, values, step):\n",
    "    prob_A = lambda price, i: sale_probs[0, i, get_price_index(price)]\n",
    "    prob_B = lambda price, j: sale_probs[1, j, get_price_index(price)]\n",
    "    todays_profit = lambda prices, j, i: np.min([n[j], i]) * prices[j] - n[j] * holding_cost_rate[j]\n",
    "    disc_exp_fut_profits = lambda i, j: delta * values[step + 1, np.max([0, n[0]-i]), np.max([0, n[1]-j])]\n",
    "\n",
    "    bellman_for_combinations = []\n",
    "    for price_A in prices_range[0]:\n",
    "        for price_B in prices_range[1]:\n",
    "            bellman_for_combinations.append(np.sum([prob_A(price_A, i) * np.sum([prob_B(price_B, j) * ((todays_profit([price_A, price_B], 0, i)+todays_profit([price_A, price_B], 1, j)) + disc_exp_fut_profits(i,j)) for j in range(2)]) for i in range(2)]))\n",
    "    return np.max(bellman_for_combinations)\n",
    "\n",
    "def bellman_check(n, sale_probs, prices, holding_cost_rate, delta, values, t):\n",
    "    prob_A = lambda price, i: sale_probs[0, i, get_price_index(price)]\n",
    "    prob_B = lambda price, j: sale_probs[1, j, get_price_index(price)]\n",
    "    todays_profit = lambda prices, j, i: np.min([n[j], i]) * prices[j] - n[j] * holding_cost_rate[j]\n",
    "    disc_exp_fut_profits = lambda i, j: delta * values[t + 1, np.max([0, n[0]-i]), np.max([0, n[1]-j])]\n",
    "\n",
    "    return np.sum([prob_A(prices[0], i) * np.sum([prob_B(prices[1], j) * ((todays_profit(prices, 0, i)+todays_profit(prices, 1, j)) + disc_exp_fut_profits(i,j)) for j in range(2)]) for i in range(2)])"
   ]
  },
  {
   "cell_type": "code",
   "execution_count": 6,
   "metadata": {
    "collapsed": false
   },
   "outputs": [],
   "source": [
    "competitor_prices = [generate_prices(competitors_count[i],prices_ranges[i]) for i in range(2)]\n",
    "\n",
    "def get_explanatory_vars(prices_range, competitors_count, competitor_prices):\n",
    "    data = []\n",
    "    for i in range(3):\n",
    "        if i == 0:\n",
    "            data.append([1 for price in prices_range])\n",
    "        elif i == 1:\n",
    "            data.append([1 + len([1 for j in range(0, competitors_count) if competitor_prices[j] < price]) for price in prices_range])\n",
    "        else:\n",
    "            data.append([price - np.min([competitor_prices[j] for j in range(competitors_count)]) for price in prices_range])\n",
    "    explanatory = np.matrix(data)\n",
    "    return explanatory\n",
    "\n",
    "explanatory_vars = [get_explanatory_vars(prices_ranges[i], competitors_count[i], competitor_prices[i]) for i in range(2)]"
   ]
  },
  {
   "cell_type": "code",
   "execution_count": 7,
   "metadata": {
    "collapsed": false,
    "scrolled": false
   },
   "outputs": [
    {
     "name": "stdout",
     "output_type": "stream",
     "text": [
      "n_A: 0,n_B: 0 - A: 0.0,B: 0.0\n",
      "n_A: 0,n_B: 1 - A: 0.0,B: 0.0\n",
      "n_A: 0,n_B: 2 - A: 0.0,B: 0.0\n",
      "n_A: 0,n_B: 3 - A: 0.0,B: 0.0\n",
      "n_A: 1,n_B: 0 - A: 0.0,B: 0.0\n",
      "n_A: 1,n_B: 1 - A: 17.6,B: 18.9\n",
      "n_A: 1,n_B: 2 - A: 20.0,B: 15.8\n",
      "n_A: 1,n_B: 3 - A: 20.0,B: 10.9\n",
      "n_A: 2,n_B: 0 - A: 0.0,B: 0.0\n",
      "n_A: 2,n_B: 1 - A: 12.4,B: 20.0\n",
      "n_A: 2,n_B: 2 - A: 16.5,B: 17.6\n",
      "n_A: 2,n_B: 3 - A: 17.4,B: 15.0\n",
      "n_A: 3,n_B: 0 - A: 0.0,B: 0.0\n",
      "n_A: 3,n_B: 1 - A: 10.1,B: 20.0\n",
      "n_A: 3,n_B: 2 - A: 12.4,B: 18.9\n",
      "n_A: 3,n_B: 3 - A: 12.4,B: 15.4\n"
     ]
    }
   ],
   "source": [
    "p = [calculate_sale_probs(beta[i], explanatory_vars[i], prices_ranges[i]) for i in range(2)]\n",
    "sale_probs = np.array([[[1 - j for j in p[i]], p[i]] for i in range(2)])\n",
    "\n",
    "delta = 0.99\n",
    "holding_cost_rate = [0.01, 0.01]\n",
    "init_inventory = [3, 3]\n",
    "steps = 50\n",
    "values = np.empty(shape=(steps + 1, init_inventory[0] + 1, init_inventory[1] + 1))\n",
    "for step in range(steps, -1, -1):\n",
    "    for n_A in range(init_inventory[0] + 1):\n",
    "        for n_B in range(init_inventory[1] + 1):\n",
    "            if step == steps or n_A == 0 or n_B == 0:\n",
    "                values[step, n_A, n_B] = 0\n",
    "            else:\n",
    "                values[step, n_A, n_B] = bellman([n_A, n_B], sale_probs, prices_ranges, holding_cost_rate, delta, values, step)\n",
    "\n",
    "def opt_p(t):\n",
    "    opt_prices = np.zeros(shape=(init_inventory[0] + 1, init_inventory[1] + 1, 2))\n",
    "    for n_A in range(1, init_inventory[0] + 1):\n",
    "        for n_B in range(1, init_inventory[1] + 1):\n",
    "            for price_A in prices_ranges[0]:\n",
    "                for price_B in prices_ranges[1]:\n",
    "                    if bellman_check([n_A, n_B], sale_probs, [price_A, price_B], holding_cost_rate, delta, values, t) == values[t, n_A, n_B]:\n",
    "                        opt_prices[n_A, n_B, 0] = price_A\n",
    "                        opt_prices[n_A, n_B, 1] = price_B\n",
    "    return opt_prices\n",
    "                    \n",
    "opt_prices = opt_p(0)\n",
    "for n_A in range(init_inventory[0] + 1):\n",
    "    for n_B in range(init_inventory[1] + 1):\n",
    "        print('n_A: ' + str(n_A) + ',n_B: ' + str(n_B) + ' - A: ' + str(opt_prices[n_A, n_B, 0]) + ',B: ' + str(opt_prices[n_A, n_B, 1]))"
   ]
  },
  {
   "cell_type": "markdown",
   "metadata": {
    "collapsed": true
   },
   "source": [
    "## Simulation"
   ]
  },
  {
   "cell_type": "code",
   "execution_count": 8,
   "metadata": {
    "collapsed": false
   },
   "outputs": [
    {
     "data": {
      "text/plain": [
       "array([ 3.,  3.,  2.,  2.,  2.,  2.,  1.,  1.,  1.,  1.,  1.,  1.,  1.,\n",
       "        1.,  1.,  1.,  1.,  1.,  1.,  1.,  1.,  1.,  1.,  1.,  1.,  1.,\n",
       "        1.,  1.,  0.,  0.,  0.,  0.,  0.,  0.,  0.,  0.,  0.,  0.,  0.,\n",
       "        0.,  0.,  0.,  0.,  0.,  0.,  0.,  0.,  0.,  0.,  0.])"
      ]
     },
     "execution_count": 8,
     "metadata": {},
     "output_type": "execute_result"
    }
   ],
   "source": [
    "c_prices_time_1 = np.empty(shape=(competitors_count[0], steps+1))\n",
    "for c in range(competitors_count[0]):\n",
    "    c_prices_time_1[c,0] = competitor_prices[0][c]\n",
    "c_prices_time_2 = np.empty(shape=(competitors_count[1], steps+1))\n",
    "for c in range(competitors_count[1]):\n",
    "    c_prices_time_2[c,0] = competitor_prices[1][c]\n",
    "    \n",
    "inventory_time_1 = np.empty(shape=(steps))\n",
    "for t in range(steps):\n",
    "    inventory_time_1[t] = init_inventory[0]\n",
    "inventory_time_2 = np.empty(shape=(steps))\n",
    "for t in range(steps):\n",
    "    inventory_time_2[t] = init_inventory[1]\n",
    "\n",
    "o_prices_time_1 = np.zeros(shape=(steps))\n",
    "o_prices_time_2 = np.zeros(shape=(steps))\n",
    "o_prices_time_1[0] = opt_prices[init_inventory[0], init_inventory[1]][0]\n",
    "o_prices_time_2[0] = opt_prices[init_inventory[0], init_inventory[1]][1]\n",
    "\n",
    "for t in range(1,steps):\n",
    "    if ((inventory_time_1[t] > 0) and (np.random.uniform(0,1) < sale_probs[0, 1,get_price_index(o_prices_time_1[t-1])])):\n",
    "        inventory_time_1[t] = np.max([0, inventory_time_1[t-1]-1])\n",
    "    else:\n",
    "        inventory_time_1[t] = inventory_time_1[t-1]\n",
    "        \n",
    "    if ((inventory_time_2[t] > 0) and (np.random.uniform(0,1) < sale_probs[1, 1,get_price_index(o_prices_time_2[t-1])])):\n",
    "        inventory_time_2[t] = np.max([0, inventory_time_2[t-1]-1])\n",
    "    else:\n",
    "        inventory_time_2[t] = inventory_time_2[t-1]\n",
    "        \n",
    "    #for c in range(competitors_count):\n",
    "        #if (np.random.uniform(0,1) < 0.2):\n",
    "            #c_prices_time[c,t]= np.round(c_prices_time[c,t-1] * np.random.uniform(0.8, 1.2), 1)\n",
    "            \n",
    "    if (inventory_time_1[t] > 0) or (inventory_time_2[t] > 0):\n",
    "        opt_prices_n = opt_p(t)\n",
    "        o_prices_time_1[t] = opt_prices_n[int(inventory_time_1[t]), int(inventory_time_2[t])][0]\n",
    "        o_prices_time_2[t] = opt_prices_n[int(inventory_time_1[t]), int(inventory_time_2[t])][1]\n",
    "inventory_time_1"
   ]
  },
  {
   "cell_type": "code",
   "execution_count": 9,
   "metadata": {
    "collapsed": false
   },
   "outputs": [
    {
     "data": {
      "text/plain": [
       "array([ 3.,  3.,  3.,  3.,  3.,  3.,  3.,  3.,  3.,  3.,  3.,  3.,  3.,\n",
       "        3.,  3.,  3.,  3.,  3.,  2.,  2.,  2.,  2.,  2.,  2.,  2.,  2.,\n",
       "        2.,  2.,  2.,  2.,  2.,  2.,  2.,  2.,  2.,  2.,  1.,  1.,  1.,\n",
       "        1.,  1.,  1.,  1.,  1.,  1.,  1.,  1.,  1.,  1.,  1.])"
      ]
     },
     "execution_count": 9,
     "metadata": {},
     "output_type": "execute_result"
    }
   ],
   "source": [
    "inventory_time_2"
   ]
  },
  {
   "cell_type": "code",
   "execution_count": 10,
   "metadata": {
    "collapsed": false
   },
   "outputs": [
    {
     "data": {
      "text/plain": [
       "array([ 12.4,  12.4,  17.4,  17.4,  17.3,  17.3,  20. ,  20. ,  20. ,\n",
       "        20. ,  20. ,  20. ,  20. ,  20. ,  20. ,  20. ,  20. ,  20. ,\n",
       "        20. ,  20. ,  20. ,  20. ,  20. ,  20. ,  20. ,  20. ,  20. ,\n",
       "        20. ,   0. ,   0. ,   0. ,   0. ,   0. ,   0. ,   0. ,   0. ,\n",
       "         0. ,   0. ,   0. ,   0. ,   0. ,   0. ,   0. ,   0. ,   0. ,\n",
       "         0. ,   0. ,   0. ,   0. ,   0. ])"
      ]
     },
     "execution_count": 10,
     "metadata": {},
     "output_type": "execute_result"
    }
   ],
   "source": [
    "o_prices_time_1"
   ]
  },
  {
   "cell_type": "code",
   "execution_count": 11,
   "metadata": {
    "collapsed": false
   },
   "outputs": [
    {
     "data": {
      "text/plain": [
       "array([ 15.4,  15.3,  14.9,  14.9,  14.9,  14.8,  10.9,  10.9,  10.9,\n",
       "        10.9,  10.9,  10.9,  10.9,  10.9,  10.9,  10.9,  10.9,  10.9,\n",
       "        15.2,  15.1,  15.1,  15. ,  15. ,  14.9,  14.9,  14.8,  10.9,\n",
       "        10.9,   0. ,   0. ,   0. ,   0. ,   0. ,   0. ,   0. ,   0. ,\n",
       "         0. ,   0. ,   0. ,   0. ,   0. ,   0. ,   0. ,   0. ,   0. ,\n",
       "         0. ,   0. ,   0. ,   0. ,   0. ])"
      ]
     },
     "execution_count": 11,
     "metadata": {},
     "output_type": "execute_result"
    }
   ],
   "source": [
    "o_prices_time_2"
   ]
  },
  {
   "cell_type": "code",
   "execution_count": null,
   "metadata": {
    "collapsed": true
   },
   "outputs": [],
   "source": []
  }
 ],
 "metadata": {
  "kernelspec": {
   "display_name": "Python 2",
   "language": "python",
   "name": "python2"
  },
  "language_info": {
   "codemirror_mode": {
    "name": "ipython",
    "version": 2
   },
   "file_extension": ".py",
   "mimetype": "text/x-python",
   "name": "python",
   "nbconvert_exporter": "python",
   "pygments_lexer": "ipython2",
   "version": "2.7.11"
  }
 },
 "nbformat": 4,
 "nbformat_minor": 0
}
