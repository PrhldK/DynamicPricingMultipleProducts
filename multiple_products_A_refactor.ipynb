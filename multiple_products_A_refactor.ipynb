{
 "cells": [
  {
   "cell_type": "markdown",
   "metadata": {},
   "source": [
    "# Logistic Regression for Multiple Products"
   ]
  },
  {
   "cell_type": "code",
   "execution_count": 107,
   "metadata": {
    "collapsed": true
   },
   "outputs": [],
   "source": [
    "import math\n",
    "import operator\n",
    "import itertools\n",
    "import numpy as np\n",
    "import sklearn.linear_model\n",
    "import statsmodels.api as sm\n",
    "import matplotlib.pyplot as plt\n",
    "\n",
    "%matplotlib inline"
   ]
  },
  {
   "cell_type": "markdown",
   "metadata": {},
   "source": [
    "## Konstanten"
   ]
  },
  {
   "cell_type": "code",
   "execution_count": 108,
   "metadata": {
    "collapsed": true
   },
   "outputs": [],
   "source": [
    "# General parameters\n",
    "min_price = 1\n",
    "max_price = 20\n",
    "price_step = 0.1\n",
    "prices_ranges = [np.arange(min_price, max_price + price_step, price_step) for i in range(2)]\n",
    "competitors_count = 2\n",
    "\n",
    "# Regression parameters\n",
    "observations_count = 1000\n",
    "\n",
    "# Optimization parameters\n",
    "delta = 0.99\n",
    "holding_cost_rate = [0.01, 0.01]\n",
    "init_inventory = [3, 3]\n",
    "optimization_steps = 10"
   ]
  },
  {
   "cell_type": "markdown",
   "metadata": {},
   "source": [
    "## Simulierte Daten"
   ]
  },
  {
   "cell_type": "code",
   "execution_count": 109,
   "metadata": {
    "collapsed": false
   },
   "outputs": [],
   "source": [
    "def generate_prices(prices_range, count):\n",
    "    return np.random.choice(prices_range, count)\n",
    "\n",
    "def generate_competitor_prices(prices_range):\n",
    "    return np.array([generate_prices(prices_range, observations_count) for j in range(competitors_count)])\n",
    "    \n",
    "def calculate_ranks(prices, competitor_prices):\n",
    "    return [1 + len([1 for j in range(competitors_count) if competitor_prices[j, k] < prices[k]])\n",
    "            for k in range(observations_count)]\n",
    "\n",
    "def boost_price(boost_factor, price):\n",
    "    return min(20, round((1 + boost_factor) * price, 1))\n",
    "\n",
    "def price_index(price):\n",
    "    return int(price / price_step - min_price / price_step)"
   ]
  },
  {
   "cell_type": "code",
   "execution_count": 66,
   "metadata": {
    "collapsed": false
   },
   "outputs": [],
   "source": [
    "prices = np.array([generate_prices(prices_ranges[i], observations_count) for i in range(2)]) \n",
    "competitor_prices = np.array([generate_competitor_prices(prices_ranges[i]) for i in range(2)])\n",
    "\n",
    "# Boost prices for product A\n",
    "for k in range(observations_count):\n",
    "    prices[0, k] = boost_price(0.4, prices[0, k])\n",
    "    for j in range(competitors_count):\n",
    "        competitor_prices[0, j, k] = boost_price(0.4, competitor_prices[0, j, k])\n",
    "\n",
    "ranks = np.array([calculate_ranks(prices[i], competitor_prices[i]) for i in range(2)])"
   ]
  },
  {
   "cell_type": "code",
   "execution_count": 111,
   "metadata": {
    "collapsed": false
   },
   "outputs": [],
   "source": [
    "def calculate_sale_probs_A(prices, ranks):\n",
    "    max_prob = lambda i: 1 - ((0.3 * ranks[0, i]) / (competitors_count + 1)) - \\\n",
    "                         0.05 * prices[0, i] + \\\n",
    "                         (-0.0125 * (prices[0, i] - prices[1, i]) + 0.25)\n",
    "            \n",
    "    return [max(0, round(np.random.uniform(0, max_prob(i)))) for i in range(observations_count)]\n",
    "\n",
    "def calculate_sale_probs_B(prices, ranks):\n",
    "    max_prob = lambda i: 1 - ((0.3 * ranks[1, i]) / (competitors_count + 1)) - \\\n",
    "                         0.05 * prices[1, i] + \\\n",
    "                         (0.0125 * (prices[0, i] - prices[1, i]) + 0.25)\n",
    "            \n",
    "    return [max(0, round(np.random.uniform(0, max_prob(i)))) for i in range(observations_count)]"
   ]
  },
  {
   "cell_type": "code",
   "execution_count": 112,
   "metadata": {
    "collapsed": false
   },
   "outputs": [
    {
     "data": {
      "text/plain": [
       "'\\ndef calculate_sale_probs_A(prices, competitor_prices, ranks):\\n    sum_competitors_A = lambda k: sum(competitor_prices[0, j, k] for j in range(competitors_count))\\n    sum_competitors_B = lambda k: sum(competitor_prices[1, j, k] for j in range(competitors_count))\\n    max_prob = lambda k: 1 - (0.4 / max_price) * prices[0, k]                            + (0.2 / max_price) * prices[1, k]                            + (0.3 / max_price) * sum_competitors_A(k) / competitors_count                            + (0.1 / max_price) * sum_competitors_B(k) / competitors_count\\n    \\n    return [max(0, round(np.random.uniform(0, max_prob(k)))) for k in range(observations_count)]\\n\\ndef calculate_sale_probs_B(prices, competitor_prices, ranks):\\n    sum_competitors_A = lambda k: sum(competitor_prices[0, j, k] for j in range(competitors_count))\\n    sum_competitors_B = lambda k: sum(competitor_prices[1, j, k] for j in range(competitors_count))\\n    max_prob = lambda k: 1 + (0.2 / max_price) * prices[0, k]                            - (0.4 / max_price) * prices[1, k]                            + (0.1 / max_price) * sum_competitors_A(k) / competitors_count                            + (0.3 / max_price) * sum_competitors_B(k) / competitors_count\\n    \\n    return [max(0, round(np.random.uniform(0, max_prob(k)))) for k in range(observations_count)]\\n'"
      ]
     },
     "execution_count": 112,
     "metadata": {},
     "output_type": "execute_result"
    }
   ],
   "source": [
    "\"\"\"\n",
    "def calculate_sale_probs_A(prices, competitor_prices, ranks):\n",
    "    sum_competitors_A = lambda k: sum(competitor_prices[0, j, k] for j in range(competitors_count))\n",
    "    sum_competitors_B = lambda k: sum(competitor_prices[1, j, k] for j in range(competitors_count))\n",
    "    max_prob = lambda k: 1 - (0.4 / max_price) * prices[0, k] \\\n",
    "                           + (0.2 / max_price) * prices[1, k] \\\n",
    "                           + (0.3 / max_price) * sum_competitors_A(k) / competitors_count \\\n",
    "                           + (0.1 / max_price) * sum_competitors_B(k) / competitors_count\n",
    "    \n",
    "    return [max(0, round(np.random.uniform(0, max_prob(k)))) for k in range(observations_count)]\n",
    "\n",
    "def calculate_sale_probs_B(prices, competitor_prices, ranks):\n",
    "    sum_competitors_A = lambda k: sum(competitor_prices[0, j, k] for j in range(competitors_count))\n",
    "    sum_competitors_B = lambda k: sum(competitor_prices[1, j, k] for j in range(competitors_count))\n",
    "    max_prob = lambda k: 1 + (0.2 / max_price) * prices[0, k] \\\n",
    "                           - (0.4 / max_price) * prices[1, k] \\\n",
    "                           + (0.1 / max_price) * sum_competitors_A(k) / competitors_count \\\n",
    "                           + (0.3 / max_price) * sum_competitors_B(k) / competitors_count\n",
    "    \n",
    "    return [max(0, round(np.random.uniform(0, max_prob(k)))) for k in range(observations_count)]\n",
    "\"\"\""
   ]
  },
  {
   "cell_type": "code",
   "execution_count": 113,
   "metadata": {
    "collapsed": false
   },
   "outputs": [],
   "source": [
    "sale_probs = [calculate_sale_probs_A(prices, ranks),\n",
    "              calculate_sale_probs_B(prices, ranks)]"
   ]
  },
  {
   "cell_type": "markdown",
   "metadata": {},
   "source": [
    "## Regression"
   ]
  },
  {
   "cell_type": "code",
   "execution_count": 114,
   "metadata": {
    "collapsed": true
   },
   "outputs": [],
   "source": [
    "def get_all_competitor_prices(observation):\n",
    "    for i in range(2):\n",
    "            for j in range(competitors_count):\n",
    "                yield competitor_prices[i, j, observation]\n",
    "                \n",
    "def get_explanatory_vars(product, ranks, competitor_prices):\n",
    "    explanatory_1 = [1] * observations_count\n",
    "    explanatory_2 = [ranks[product, k] for k in range(observations_count)]\n",
    "    explanatory_3 = [prices[product, k] - min(get_all_competitor_prices(k)) for k in range(observations_count)]\n",
    "    explanatory_4 = [prices[product, k] - min(prices[i, k] for i in range(2)) for k in range(observations_count)]\n",
    "    explanatory_5 = list(map(lambda x: math.pow(x, 2),explanatory_4))\n",
    "    \n",
    "    return np.matrix([explanatory_1, explanatory_2, explanatory_3, explanatory_4, explanatory_5])"
   ]
  },
  {
   "cell_type": "code",
   "execution_count": 115,
   "metadata": {
    "collapsed": false
   },
   "outputs": [
    {
     "name": "stdout",
     "output_type": "stream",
     "text": [
      "Optimization terminated successfully.\n",
      "         Current function value: 0.251823\n",
      "         Iterations 12\n",
      "Optimization terminated successfully.\n",
      "         Current function value: 0.376644\n",
      "         Iterations 12\n"
     ]
    },
    {
     "data": {
      "text/plain": [
       "[array([ 0.13825848, -0.53350763, -0.13435024, -0.30377406, -0.01524579]),\n",
       " array([ 0.27810879, -0.37633311, -0.17318862, -0.3783506 , -0.01808281])]"
      ]
     },
     "execution_count": 115,
     "metadata": {},
     "output_type": "execute_result"
    }
   ],
   "source": [
    "explanatory_vars = [get_explanatory_vars(i, ranks, competitor_prices) for i in range(2)]\n",
    "logits = [sm.Logit(sale_probs[i], explanatory_vars[i].transpose()) for i in range(2)]\n",
    "results = [logits[i].fit() for i in range(2)]\n",
    "beta = [results[i].params for i in range(2)]\n",
    "beta"
   ]
  },
  {
   "cell_type": "code",
   "execution_count": 116,
   "metadata": {
    "collapsed": false
   },
   "outputs": [
    {
     "data": {
      "text/plain": [
       "[513.64573487571624, 763.28765621040998]"
      ]
     },
     "execution_count": 116,
     "metadata": {},
     "output_type": "execute_result"
    }
   ],
   "source": [
    "[results[i].aic for i in range(2)]"
   ]
  },
  {
   "cell_type": "markdown",
   "metadata": {},
   "source": [
    "## Optimierung"
   ]
  },
  {
   "cell_type": "code",
   "execution_count": 117,
   "metadata": {
    "collapsed": false
   },
   "outputs": [],
   "source": [
    "# Generate competitor prices for new, specific situation\n",
    "competitor_prices = np.array([generate_prices(prices_ranges[i], competitors_count) for i in range(2)])"
   ]
  },
  {
   "cell_type": "markdown",
   "metadata": {},
   "source": [
    "### Recreate explanatory vars depending on price combinations"
   ]
  },
  {
   "cell_type": "code",
   "execution_count": 118,
   "metadata": {
    "collapsed": true
   },
   "outputs": [],
   "source": [
    "def get_all_competitor_prices():\n",
    "    for i in range(2):\n",
    "        for k in range(competitors_count):\n",
    "            yield competitor_prices[i][k]\n",
    "\n",
    "def get_explanatory_vars_replica_A(competitor_prices):\n",
    "    explanatory_1 = np.array([[1] * len(prices_ranges[0])] * len(prices_ranges[1]))\n",
    "    explanatory_2 = np.array([[1 + len([1 for j in range(competitors_count) if competitor_prices[0, j] < price_A]) \n",
    "                               for price_B in prices_ranges[1]] for price_A in prices_ranges[0]])\n",
    "    explanatory_3 = np.array([[price_A - min(get_all_competitor_prices()) \n",
    "                               for price_B in prices_ranges[1]] for price_A in prices_ranges[0]])\n",
    "    explanatory_4 = np.array([[price_A - min([price_A, price_B]) \n",
    "                                for price_B in prices_ranges[1]] for price_A in prices_ranges[0]])\n",
    "    explanatory_5 = np.array([[math.pow(explanatory_4[price_index(price_A), price_index(price_B)], 2) \n",
    "                                for price_B in prices_ranges[1]] for price_A in prices_ranges[0]])\n",
    "    \n",
    "    return np.array([explanatory_1, explanatory_2, explanatory_3, explanatory_4, explanatory_5])\n",
    "\n",
    "def get_explanatory_vars_replica_B(competitor_prices):\n",
    "    explanatory_1 = np.array([[1] * len(prices_ranges[0])] * len(prices_ranges[1]))\n",
    "    explanatory_2 = np.array([[1 + len([1 for j in range(competitors_count) if competitor_prices[1, j] < price_B]) \n",
    "                               for price_B in prices_ranges[1]] for price_A in prices_ranges[0]])\n",
    "    explanatory_3 = np.array([[price_B - min(get_all_competitor_prices()) \n",
    "                               for price_B in prices_ranges[1]] for price_A in prices_ranges[0]])\n",
    "    explanatory_4 = np.array([[price_B - min([price_A, price_B]) \n",
    "                                for price_B in prices_ranges[1]] for price_A in prices_ranges[0]])\n",
    "    explanatory_5 = np.array([[math.pow(explanatory_4[price_index(price_A), price_index(price_B)], 2) \n",
    "                                for price_B in prices_ranges[1]] for price_A in prices_ranges[0]])\n",
    "    \n",
    "    return np.array([explanatory_1, explanatory_2, explanatory_3, explanatory_4, explanatory_5])"
   ]
  },
  {
   "cell_type": "code",
   "execution_count": 119,
   "metadata": {
    "collapsed": false
   },
   "outputs": [],
   "source": [
    "explanatory_vars = [get_explanatory_vars_replica_A(competitor_prices),\n",
    "                    get_explanatory_vars_replica_B(competitor_prices)]"
   ]
  },
  {
   "cell_type": "markdown",
   "metadata": {},
   "source": [
    "### Calculate sale probabilities with betas"
   ]
  },
  {
   "cell_type": "code",
   "execution_count": 120,
   "metadata": {
    "collapsed": true
   },
   "outputs": [],
   "source": [
    "def price_index(price):\n",
    "    return int(price / price_step - min_price / price_step)\n",
    "\n",
    "def calculate_sale_probs(price_A, price_B, beta, explanatory_vars):\n",
    "    L = sum([beta[l] * explanatory_vars[l, price_index(price_A), price_index(price_B)] for l in range(len(beta))])\n",
    "    return np.exp(L) / (1 + np.exp(L))"
   ]
  },
  {
   "cell_type": "code",
   "execution_count": 121,
   "metadata": {
    "collapsed": false
   },
   "outputs": [],
   "source": [
    "sale_probs = np.empty(shape=(2, 2, len(prices_ranges[0]), len(prices_ranges[1])))\n",
    "for i in range(2):\n",
    "    for price_A in prices_ranges[0]:\n",
    "        for price_B in prices_ranges[1]:\n",
    "            p = calculate_sale_probs(price_A, price_B, beta[i], explanatory_vars[i])\n",
    "            sale_probs[0, i, price_index(price_A), price_index(price_B)] = 1 - p\n",
    "            sale_probs[1, i, price_index(price_A), price_index(price_B)] = p"
   ]
  },
  {
   "cell_type": "markdown",
   "metadata": {},
   "source": [
    "### Calculate optimal prices using Bellman"
   ]
  },
  {
   "cell_type": "code",
   "execution_count": null,
   "metadata": {
    "collapsed": true
   },
   "outputs": [],
   "source": [
    "def get_event_combinations(n):\n",
    "        possibile_events = [[0] if n[i] == 0 else range(2) for i in range(2)]\n",
    "        return itertools.product(*possibile_events)\n",
    "\n",
    "def bellman(n, sale_probs, values, step):\n",
    "    prob = lambda i, e, prices: sale_probs[e[i], i, price_index(prices[0]), price_index(prices[1])]\n",
    "    todays_profit = lambda e, prices: sum(min(n[i], e[i]) * prices[i] - n[i] * holding_cost_rate[i] for i in range(2))\n",
    "    disc_exp_fut_profits = lambda e: delta * values[step + 1, max(0, n[0] - e[0]), max(0, n[1] - e[1])]\n",
    "    \n",
    "    bellman_results = {}\n",
    "    for prices in itertools.product(prices_ranges[0], prices_ranges[1]):\n",
    "        result = sum(prob(0, e, prices) * prob(1, e, prices) * (todays_profit(e, prices) + disc_exp_fut_profits(e)) \n",
    "                     for e in get_event_combinations(n))\n",
    "        bellman_results[prices] = result\n",
    "    \n",
    "    return max(bellman_results.items(), key=operator.itemgetter(1))"
   ]
  },
  {
   "cell_type": "code",
   "execution_count": null,
   "metadata": {
    "collapsed": false
   },
   "outputs": [
    {
     "name": "stdout",
     "output_type": "stream",
     "text": [
      "1/10\n"
     ]
    }
   ],
   "source": [
    "values = np.zeros(shape=(optimization_steps + 1, init_inventory[0] + 1, init_inventory[1] + 1))\n",
    "opt_prices = np.zeros(shape=(optimization_steps + 1, init_inventory[0] + 1, init_inventory[1] + 1, 2))\n",
    "for step in range(optimization_steps - 1, -1, -1):\n",
    "    print('%s/%s' % (optimization_steps - step, optimization_steps))\n",
    "    for n_A in range(init_inventory[0] + 1):\n",
    "        for n_B in range(init_inventory[1] + 1):\n",
    "            if n_A > 0 or n_B > 0:\n",
    "                opt_prices[step, n_A, n_B], values[step, n_A, n_B] = bellman([n_A, n_B], sale_probs, values, step)"
   ]
  },
  {
   "cell_type": "code",
   "execution_count": null,
   "metadata": {
    "collapsed": false
   },
   "outputs": [],
   "source": [
    "for n_A in range(init_inventory[0] + 1):\n",
    "    for n_B in range(init_inventory[1] + 1):\n",
    "        opt_price_A = opt_prices[0, n_A, n_B, 0]\n",
    "        opt_price_B = opt_prices[0, n_A, n_B, 1]\n",
    "        print('n_A: %s, n_B: %s - A: %s, B: %s' % (str(n_A), str(n_B), str(opt_price_A), str(opt_price_B)))"
   ]
  },
  {
   "cell_type": "markdown",
   "metadata": {},
   "source": [
    "## Simulation"
   ]
  },
  {
   "cell_type": "code",
   "execution_count": null,
   "metadata": {
    "collapsed": false
   },
   "outputs": [],
   "source": [
    "# Competitor prices over the time period\n",
    "competitor_prices_time = np.zeros(shape=(2, competitors_count, optimization_steps))\n",
    "for i in range(2):\n",
    "    for j in range(competitors_count):\n",
    "        competitor_prices_time[i, j, 0] = competitor_prices[0, j]\n",
    "        \n",
    "# Inventory over the time period\n",
    "inventory_time = np.array([[init_inventory[i]] * optimization_steps for i in range(2)])\n",
    "\n",
    "# Own prices over the time period\n",
    "prices_time = np.zeros(shape=(2, optimization_steps))\n",
    "prices_time[0, 0] = opt_prices[0, init_inventory[0], init_inventory[1], 0]\n",
    "prices_time[1, 0] = opt_prices[0, init_inventory[0], init_inventory[1], 1]"
   ]
  },
  {
   "cell_type": "code",
   "execution_count": null,
   "metadata": {
    "collapsed": false
   },
   "outputs": [],
   "source": [
    "for step in range(1, optimization_steps):\n",
    "    for i in range(2):\n",
    "        sale_prob = sale_probs[i, 1, price_index(prices_time[0, step - 1]), price_index(prices_time[1, step - 1])]\n",
    "        if inventory_time[i, step] > 0 and np.random.uniform(0, 1) < sale_prob:\n",
    "            inventory_time[i, step] = max(0, inventory_time[i, step - 1] - 1)\n",
    "        else:\n",
    "            inventory_time[i, step] = inventory_time[i, step - 1]\n",
    "    \n",
    "        \"\"\"\n",
    "        # TODO vary competitor prices\n",
    "        for j in range(competitors_count):\n",
    "            if np.random.uniform(0, 1) < 0.2:\n",
    "                boost = np.random.uniform(0.8, 1.2)\n",
    "                competitor_prices_time[i, j, step] = round(competitor_prices_time[i, j, step - 1] * boost, 1)\n",
    "        \"\"\"\n",
    "                \n",
    "    if inventory_time[0, step] > 0 or inventory_time[1, step] > 0:\n",
    "        prices_time[0, step] = opt_prices[step, inventory_time[0, step], inventory_time[1, step], 0]\n",
    "        prices_time[1, step] = opt_prices[step, inventory_time[0, step], inventory_time[1, step], 1]"
   ]
  },
  {
   "cell_type": "markdown",
   "metadata": {},
   "source": [
    "### Plots"
   ]
  },
  {
   "cell_type": "code",
   "execution_count": null,
   "metadata": {
    "collapsed": false
   },
   "outputs": [],
   "source": [
    "prices_time[0]"
   ]
  },
  {
   "cell_type": "code",
   "execution_count": null,
   "metadata": {
    "collapsed": false
   },
   "outputs": [],
   "source": [
    "inventory_time[0]"
   ]
  },
  {
   "cell_type": "code",
   "execution_count": null,
   "metadata": {
    "collapsed": false
   },
   "outputs": [],
   "source": [
    "plt.figure(figsize=(20, 4))\n",
    "plt.plot(range(optimization_steps), prices_time[0], label='Prices', color=\"blue\", linewidth=2.5)\n",
    "plt.plot(range(optimization_steps), inventory_time[0], label='Inventory', color=\"red\", linewidth=2.5)\n",
    "plt.axis([0, optimization_steps - 1, min_price, max_price + 1])\n",
    "plt.legend(loc='upper right', prop={'size': 15})\n",
    "plt.show()"
   ]
  },
  {
   "cell_type": "code",
   "execution_count": null,
   "metadata": {
    "collapsed": false
   },
   "outputs": [],
   "source": [
    "prices_time[1]"
   ]
  },
  {
   "cell_type": "code",
   "execution_count": null,
   "metadata": {
    "collapsed": false
   },
   "outputs": [],
   "source": [
    "inventory_time[1]"
   ]
  },
  {
   "cell_type": "code",
   "execution_count": null,
   "metadata": {
    "collapsed": false
   },
   "outputs": [],
   "source": [
    "plt.figure(figsize=(20, 4))\n",
    "plt.plot(range(optimization_steps), prices_time[1], label='Prices', color=\"blue\", linewidth=2.5)\n",
    "plt.plot(range(optimization_steps), inventory_time[1], label='Inventory', color=\"red\", linewidth=2.5)\n",
    "plt.axis([0, optimization_steps - 1, min_price, max_price + 1])\n",
    "plt.legend(loc='upper right', prop={'size': 15})\n",
    "plt.show()"
   ]
  },
  {
   "cell_type": "code",
   "execution_count": null,
   "metadata": {
    "collapsed": true
   },
   "outputs": [],
   "source": []
  }
 ],
 "metadata": {
  "kernelspec": {
   "display_name": "Python 3",
   "language": "python",
   "name": "python3"
  },
  "language_info": {
   "codemirror_mode": {
    "name": "ipython",
    "version": 3
   },
   "file_extension": ".py",
   "mimetype": "text/x-python",
   "name": "python",
   "nbconvert_exporter": "python",
   "pygments_lexer": "ipython3",
   "version": "3.5.1"
  }
 },
 "nbformat": 4,
 "nbformat_minor": 0
}
