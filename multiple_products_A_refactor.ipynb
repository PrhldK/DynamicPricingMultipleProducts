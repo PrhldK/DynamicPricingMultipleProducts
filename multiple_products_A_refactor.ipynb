{
 "cells": [
  {
   "cell_type": "markdown",
   "metadata": {},
   "source": [
    "# Logistic Regression for Multiple Products"
   ]
  },
  {
   "cell_type": "code",
   "execution_count": 1,
   "metadata": {
    "collapsed": true
   },
   "outputs": [],
   "source": [
    "import math\n",
    "import operator\n",
    "import itertools\n",
    "import numpy as np\n",
    "import sklearn.linear_model\n",
    "import statsmodels.api as sm\n",
    "import matplotlib.pyplot as plt\n",
    "\n",
    "%matplotlib inline"
   ]
  },
  {
   "cell_type": "markdown",
   "metadata": {},
   "source": [
    "## Konstanten"
   ]
  },
  {
   "cell_type": "code",
   "execution_count": 2,
   "metadata": {
    "collapsed": true
   },
   "outputs": [],
   "source": [
    "# General parameters\n",
    "min_price = 1\n",
    "max_price = 20\n",
    "price_step = 0.1\n",
    "prices_ranges = [np.arange(min_price, max_price + price_step, price_step) for i in range(2)]\n",
    "competitors_count = 2\n",
    "\n",
    "# Regression parameters\n",
    "observations_count = 1000\n",
    "\n",
    "# Optimization parameters\n",
    "delta = 0.99\n",
    "holding_cost_rate = [0.01, 0.01]\n",
    "init_inventory = [3, 3]\n",
    "optimization_steps = 10\n",
    "simulation_length = 10"
   ]
  },
  {
   "cell_type": "markdown",
   "metadata": {},
   "source": [
    "## Simulierte Daten"
   ]
  },
  {
   "cell_type": "code",
   "execution_count": 3,
   "metadata": {
    "collapsed": false
   },
   "outputs": [],
   "source": [
    "def generate_prices(prices_range, count):\n",
    "    return np.random.choice(prices_range, count)\n",
    "\n",
    "def generate_competitor_prices(prices_range):\n",
    "    return np.array([generate_prices(prices_range, observations_count) for j in range(competitors_count)])\n",
    "    \n",
    "def calculate_ranks(prices, competitor_prices):\n",
    "    return [1 + len([1 for j in range(competitors_count) if competitor_prices[j, k] < prices[k]])\n",
    "            for k in range(observations_count)]\n",
    "\n",
    "def boost_price(boost_factor, price):\n",
    "    return min(20, round((1 + boost_factor) * price, 1))\n",
    "\n",
    "def price_index(price):\n",
    "    return int(price / price_step - min_price / price_step)"
   ]
  },
  {
   "cell_type": "code",
   "execution_count": 4,
   "metadata": {
    "collapsed": false
   },
   "outputs": [],
   "source": [
    "prices = np.array([generate_prices(prices_ranges[i], observations_count) for i in range(2)]) \n",
    "competitor_prices = np.array([generate_competitor_prices(prices_ranges[i]) for i in range(2)])\n",
    "\n",
    "\"\"\"\n",
    "# Boost prices for product A\n",
    "for k in range(observations_count):\n",
    "    prices[0, k] = boost_price(0.4, prices[0, k])\n",
    "    for j in range(competitors_count):\n",
    "        competitor_prices[0, j, k] = boost_price(0.4, competitor_prices[0, j, k])\n",
    "\"\"\"\n",
    "\n",
    "ranks = np.array([calculate_ranks(prices[i], competitor_prices[i]) for i in range(2)])"
   ]
  },
  {
   "cell_type": "code",
   "execution_count": 5,
   "metadata": {
    "collapsed": false
   },
   "outputs": [],
   "source": [
    "def calculate_sale_probs_A(prices, ranks):\n",
    "    max_prob = lambda i: 1 - ((0.3 * ranks[0, i]) / (competitors_count + 1)) - \\\n",
    "                         0.05 * prices[0, i] + \\\n",
    "                         (-0.0125 * (prices[0, i] - prices[1, i]) + 0.25)\n",
    "            \n",
    "    return [max(0, round(np.random.uniform(0, max_prob(i)))) for i in range(observations_count)]\n",
    "\n",
    "def calculate_sale_probs_B(prices, ranks):\n",
    "    max_prob = lambda i: 1 - ((0.3 * ranks[1, i]) / (competitors_count + 1)) - \\\n",
    "                         0.05 * prices[1, i] + \\\n",
    "                         (0.0125 * (prices[0, i] - prices[1, i]) + 0.25)\n",
    "            \n",
    "    return [max(0, round(np.random.uniform(0, max_prob(i)))) for i in range(observations_count)]"
   ]
  },
  {
   "cell_type": "code",
   "execution_count": 6,
   "metadata": {
    "collapsed": false
   },
   "outputs": [
    {
     "data": {
      "text/plain": [
       "'\\ndef calculate_sale_probs_A(prices, competitor_prices, ranks):\\n    sum_competitors_A = lambda k: sum(competitor_prices[0, j, k] for j in range(competitors_count))\\n    sum_competitors_B = lambda k: sum(competitor_prices[1, j, k] for j in range(competitors_count))\\n    max_prob = lambda k: 1 - (0.4 / max_price) * prices[0, k]                            + (0.2 / max_price) * prices[1, k]                            + (0.3 / max_price) * sum_competitors_A(k) / competitors_count                            + (0.1 / max_price) * sum_competitors_B(k) / competitors_count\\n    \\n    return [max(0, round(np.random.uniform(0, max_prob(k)))) for k in range(observations_count)]\\n\\ndef calculate_sale_probs_B(prices, competitor_prices, ranks):\\n    sum_competitors_A = lambda k: sum(competitor_prices[0, j, k] for j in range(competitors_count))\\n    sum_competitors_B = lambda k: sum(competitor_prices[1, j, k] for j in range(competitors_count))\\n    max_prob = lambda k: 1 + (0.2 / max_price) * prices[0, k]                            - (0.4 / max_price) * prices[1, k]                            + (0.1 / max_price) * sum_competitors_A(k) / competitors_count                            + (0.3 / max_price) * sum_competitors_B(k) / competitors_count\\n    \\n    return [max(0, round(np.random.uniform(0, max_prob(k)))) for k in range(observations_count)]\\n'"
      ]
     },
     "execution_count": 6,
     "metadata": {},
     "output_type": "execute_result"
    }
   ],
   "source": [
    "\"\"\"\n",
    "def calculate_sale_probs_A(prices, competitor_prices, ranks):\n",
    "    sum_competitors_A = lambda k: sum(competitor_prices[0, j, k] for j in range(competitors_count))\n",
    "    sum_competitors_B = lambda k: sum(competitor_prices[1, j, k] for j in range(competitors_count))\n",
    "    max_prob = lambda k: 1 - (0.4 / max_price) * prices[0, k] \\\n",
    "                           + (0.2 / max_price) * prices[1, k] \\\n",
    "                           + (0.3 / max_price) * sum_competitors_A(k) / competitors_count \\\n",
    "                           + (0.1 / max_price) * sum_competitors_B(k) / competitors_count\n",
    "    \n",
    "    return [max(0, round(np.random.uniform(0, max_prob(k)))) for k in range(observations_count)]\n",
    "\n",
    "def calculate_sale_probs_B(prices, competitor_prices, ranks):\n",
    "    sum_competitors_A = lambda k: sum(competitor_prices[0, j, k] for j in range(competitors_count))\n",
    "    sum_competitors_B = lambda k: sum(competitor_prices[1, j, k] for j in range(competitors_count))\n",
    "    max_prob = lambda k: 1 + (0.2 / max_price) * prices[0, k] \\\n",
    "                           - (0.4 / max_price) * prices[1, k] \\\n",
    "                           + (0.1 / max_price) * sum_competitors_A(k) / competitors_count \\\n",
    "                           + (0.3 / max_price) * sum_competitors_B(k) / competitors_count\n",
    "    \n",
    "    return [max(0, round(np.random.uniform(0, max_prob(k)))) for k in range(observations_count)]\n",
    "\"\"\""
   ]
  },
  {
   "cell_type": "code",
   "execution_count": 7,
   "metadata": {
    "collapsed": false
   },
   "outputs": [],
   "source": [
    "sale_probs = [calculate_sale_probs_A(prices, ranks),\n",
    "              calculate_sale_probs_B(prices, ranks)]"
   ]
  },
  {
   "cell_type": "markdown",
   "metadata": {},
   "source": [
    "## Regression"
   ]
  },
  {
   "cell_type": "code",
   "execution_count": 8,
   "metadata": {
    "collapsed": true
   },
   "outputs": [],
   "source": [
    "def get_all_competitor_prices(observation):\n",
    "    for i in range(2):\n",
    "            for j in range(competitors_count):\n",
    "                yield competitor_prices[i, j, observation]\n",
    "                \n",
    "def get_explanatory_vars(product, ranks, competitor_prices):\n",
    "    explanatory_1 = [1] * observations_count\n",
    "    explanatory_2 = [ranks[product, k] for k in range(observations_count)]\n",
    "    explanatory_3 = [prices[product, k] - min(get_all_competitor_prices(k)) for k in range(observations_count)]\n",
    "    explanatory_4 = [prices[product, k] - min(prices[i, k] for i in range(2)) for k in range(observations_count)]\n",
    "    explanatory_5 = list(map(lambda x: math.pow(x, 2),explanatory_4))\n",
    "    \n",
    "    return np.matrix([explanatory_1, explanatory_2, explanatory_3, explanatory_4, explanatory_5])"
   ]
  },
  {
   "cell_type": "code",
   "execution_count": 9,
   "metadata": {
    "collapsed": false
   },
   "outputs": [
    {
     "name": "stdout",
     "output_type": "stream",
     "text": [
      "Optimization terminated successfully.\n",
      "         Current function value: 0.331617\n",
      "         Iterations 12\n",
      "Optimization terminated successfully.\n",
      "         Current function value: 0.335040\n",
      "         Iterations 11\n"
     ]
    },
    {
     "data": {
      "text/plain": [
       "[array([ 0.24572466, -0.46695769, -0.17993614,  0.08679815, -0.07865315]),\n",
       " array([ 0.15729008, -0.45188336, -0.17333177, -0.17319387, -0.02340831])]"
      ]
     },
     "execution_count": 9,
     "metadata": {},
     "output_type": "execute_result"
    }
   ],
   "source": [
    "explanatory_vars = [get_explanatory_vars(i, ranks, competitor_prices) for i in range(2)]\n",
    "logits = [sm.Logit(sale_probs[i], explanatory_vars[i].transpose()) for i in range(2)]\n",
    "results = [logits[i].fit() for i in range(2)]\n",
    "beta = [results[i].params for i in range(2)]\n",
    "beta"
   ]
  },
  {
   "cell_type": "code",
   "execution_count": 10,
   "metadata": {
    "collapsed": false
   },
   "outputs": [
    {
     "data": {
      "text/plain": [
       "[673.23494056581558, 680.07968609664124]"
      ]
     },
     "execution_count": 10,
     "metadata": {},
     "output_type": "execute_result"
    }
   ],
   "source": [
    "[results[i].aic for i in range(2)]"
   ]
  },
  {
   "cell_type": "markdown",
   "metadata": {},
   "source": [
    "## Optimierung"
   ]
  },
  {
   "cell_type": "code",
   "execution_count": 11,
   "metadata": {
    "collapsed": false
   },
   "outputs": [],
   "source": [
    "#beta = [[ 0.6, -2, -0.3, -0.1 ],[ -10 , -0.25  , -1, -0.15]]\n",
    "\n",
    "# Generate competitor prices for new, specific situation\n",
    "competitor_prices = np.array([generate_prices(prices_ranges[i], competitors_count) for i in range(2)])\n",
    "\n",
    "#competitor_prices = [[25,30],[25,30]]"
   ]
  },
  {
   "cell_type": "markdown",
   "metadata": {},
   "source": [
    "### Recreate explanatory vars depending on price combinations"
   ]
  },
  {
   "cell_type": "code",
   "execution_count": 12,
   "metadata": {
    "collapsed": false
   },
   "outputs": [],
   "source": [
    "def get_all_competitor_prices():\n",
    "    for i in range(2):\n",
    "        for k in range(competitors_count):\n",
    "            yield competitor_prices[i][k]\n",
    "\n",
    "def get_explanatory_vars_replica_A(competitor_prices):\n",
    "    explanatory_1 = np.array([[1] * len(prices_ranges[0])] * len(prices_ranges[1]))\n",
    "    explanatory_2 = np.array([[1 + len([1 for j in range(competitors_count) if competitor_prices[0, j] < price_A]) \n",
    "                               for price_B in prices_ranges[1]] for price_A in prices_ranges[0]])\n",
    "    explanatory_3 = np.array([[price_A - min(get_all_competitor_prices()) \n",
    "                               for price_B in prices_ranges[1]] for price_A in prices_ranges[0]])\n",
    "    explanatory_4 = np.array([[price_A - price_B\n",
    "                                for price_B in prices_ranges[1]] for price_A in prices_ranges[0]])\n",
    "    explanatory_5 = np.array([[math.pow(explanatory_4[price_index(price_A), price_index(price_B)], 2) \n",
    "                                for price_B in prices_ranges[1]] for price_A in prices_ranges[0]])\n",
    "    \n",
    "    return np.array([explanatory_1, explanatory_2, explanatory_3, explanatory_4, explanatory_5])\n",
    "\n",
    "def get_explanatory_vars_replica_B(competitor_prices):\n",
    "    explanatory_1 = np.array([[1] * len(prices_ranges[0])] * len(prices_ranges[1]))\n",
    "    explanatory_2 = np.array([[1 + len([1 for j in range(competitors_count) if competitor_prices[1, j] < price_B]) \n",
    "                               for price_B in prices_ranges[1]] for price_A in prices_ranges[0]])\n",
    "    explanatory_3 = np.array([[price_B - min(get_all_competitor_prices()) \n",
    "                               for price_B in prices_ranges[1]] for price_A in prices_ranges[0]])\n",
    "    explanatory_4 = np.array([[price_B - price_A\n",
    "                                for price_B in prices_ranges[1]] for price_A in prices_ranges[0]])\n",
    "    explanatory_5 = np.array([[math.pow(explanatory_4[price_index(price_A), price_index(price_B)], 2) \n",
    "                                for price_B in prices_ranges[1]] for price_A in prices_ranges[0]])\n",
    "    \n",
    "    return np.array([explanatory_1, explanatory_2, explanatory_3, explanatory_4, explanatory_5])"
   ]
  },
  {
   "cell_type": "code",
   "execution_count": 13,
   "metadata": {
    "collapsed": false
   },
   "outputs": [],
   "source": [
    "explanatory_vars = [get_explanatory_vars_replica_A(competitor_prices),\n",
    "                    get_explanatory_vars_replica_B(competitor_prices)]"
   ]
  },
  {
   "cell_type": "markdown",
   "metadata": {},
   "source": [
    "### Calculate sale probabilities with betas"
   ]
  },
  {
   "cell_type": "code",
   "execution_count": 14,
   "metadata": {
    "collapsed": true
   },
   "outputs": [],
   "source": [
    "def calculate_sale_probs(beta, explanatory_vars):\n",
    "    sale_probs = np.empty(shape=(2, 2, len(prices_ranges[0]), len(prices_ranges[1])))\n",
    "    for i in range(2):\n",
    "        for price_A in prices_ranges[0]:\n",
    "            for price_B in prices_ranges[1]:\n",
    "                L = sum([beta[i][l] * explanatory_vars[i][l, price_index(price_A), price_index(price_B)] for l in range(len(beta[i]))])\n",
    "                p = np.exp(L) / (1 + np.exp(L))\n",
    "                sale_probs[0, i, price_index(price_A), price_index(price_B)] = 1 - p\n",
    "                sale_probs[1, i, price_index(price_A), price_index(price_B)] = p\n",
    "    return sale_probs"
   ]
  },
  {
   "cell_type": "code",
   "execution_count": 15,
   "metadata": {
    "collapsed": false
   },
   "outputs": [],
   "source": [
    "sale_probs = calculate_sale_probs(beta, explanatory_vars)"
   ]
  },
  {
   "cell_type": "markdown",
   "metadata": {},
   "source": [
    "### Calculate optimal prices using Bellman"
   ]
  },
  {
   "cell_type": "code",
   "execution_count": 16,
   "metadata": {
    "collapsed": true
   },
   "outputs": [],
   "source": [
    "def get_event_combinations(n):\n",
    "        possibile_events = [[0] if n[i] == 0 else range(2) for i in range(2)]\n",
    "        return itertools.product(*possibile_events)\n",
    "\n",
    "def bellman(n, sale_probs, values, step):\n",
    "    prob = lambda i, e, prices: sale_probs[e[i], i, price_index(prices[0]), price_index(prices[1])]\n",
    "    todays_profit = lambda e, prices: sum(min(n[i], e[i]) * prices[i] - n[i] * holding_cost_rate[i] for i in range(2))\n",
    "    disc_exp_fut_profits = lambda e: delta * values[step + 1, max(0, n[0] - e[0]), max(0, n[1] - e[1])]\n",
    "    \n",
    "    bellman_results = {}\n",
    "    for prices in itertools.product(prices_ranges[0], prices_ranges[1]):\n",
    "        result = sum(prob(0, e, prices) * prob(1, e, prices) * (todays_profit(e, prices) + disc_exp_fut_profits(e)) \n",
    "                     for e in get_event_combinations(n))\n",
    "        bellman_results[prices] = result\n",
    "    \n",
    "    return max(bellman_results.items(), key=operator.itemgetter(1))"
   ]
  },
  {
   "cell_type": "code",
   "execution_count": 17,
   "metadata": {
    "collapsed": true
   },
   "outputs": [],
   "source": [
    "def bellman_new(sale_probs):\n",
    "    prob = lambda i, e, prices: sale_probs[e, i, price_index(prices[0]), price_index(prices[1])]\n",
    "    \n",
    "    bellman_results = {}\n",
    "    for prices in itertools.product(prices_ranges[0], prices_ranges[1]):\n",
    "        result = sum(sum(prob(j, k, prices) * k * prices[j] for k in range(2)) for j in range(2))\n",
    "        bellman_results[prices] = result\n",
    "        \n",
    "    return max(bellman_results.items(), key=operator.itemgetter(1))[0]"
   ]
  },
  {
   "cell_type": "code",
   "execution_count": 18,
   "metadata": {
    "collapsed": false,
    "scrolled": false
   },
   "outputs": [
    {
     "name": "stdout",
     "output_type": "stream",
     "text": [
      "(6.100000000000005, 4.8000000000000034)\n"
     ]
    }
   ],
   "source": [
    "opt_prices = bellman_new(sale_probs)\n",
    "print(opt_prices)"
   ]
  },
  {
   "cell_type": "code",
   "execution_count": 19,
   "metadata": {
    "collapsed": false
   },
   "outputs": [
    {
     "data": {
      "text/plain": [
       "\"\\nvalues = np.zeros(shape=(optimization_steps + 1, init_inventory[0] + 1, init_inventory[1] + 1))\\nopt_prices = np.zeros(shape=(optimization_steps + 1, init_inventory[0] + 1, init_inventory[1] + 1, 2))\\nfor step in range(optimization_steps - 1, -1, -1):\\n    print('%s/%s' % (optimization_steps - step, optimization_steps))\\n    for n_A in range(init_inventory[0] + 1):\\n        for n_B in range(init_inventory[1] + 1):\\n            if n_A > 0 or n_B > 0:\\n                opt_prices[step, n_A, n_B], values[step, n_A, n_B] = bellman([n_A, n_B], sale_probs, values, step)\\n\""
      ]
     },
     "execution_count": 19,
     "metadata": {},
     "output_type": "execute_result"
    }
   ],
   "source": [
    "\"\"\"\n",
    "values = np.zeros(shape=(optimization_steps + 1, init_inventory[0] + 1, init_inventory[1] + 1))\n",
    "opt_prices = np.zeros(shape=(optimization_steps + 1, init_inventory[0] + 1, init_inventory[1] + 1, 2))\n",
    "for step in range(optimization_steps - 1, -1, -1):\n",
    "    print('%s/%s' % (optimization_steps - step, optimization_steps))\n",
    "    for n_A in range(init_inventory[0] + 1):\n",
    "        for n_B in range(init_inventory[1] + 1):\n",
    "            if n_A > 0 or n_B > 0:\n",
    "                opt_prices[step, n_A, n_B], values[step, n_A, n_B] = bellman([n_A, n_B], sale_probs, values, step)\n",
    "\"\"\""
   ]
  },
  {
   "cell_type": "markdown",
   "metadata": {},
   "source": [
    "## Simulation"
   ]
  },
  {
   "cell_type": "code",
   "execution_count": 20,
   "metadata": {
    "collapsed": false
   },
   "outputs": [],
   "source": [
    "# Competitor prices over the time period\n",
    "competitor_prices_time = np.zeros(shape=(simulation_length, 2, competitors_count))\n",
    "for i in range(2):\n",
    "    for j in range(competitors_count):\n",
    "        competitor_prices_time[0, i, j] = competitor_prices[0, j]\n",
    "        \n",
    "# Own prices over the time period\n",
    "prices_time = np.zeros(shape=(simulation_length, 2))\n",
    "prices_time[0, 0] = opt_prices[0]\n",
    "prices_time[0, 1] = opt_prices[1]\n",
    "\n",
    "# count number of sales\n",
    "product_sales = np.zeros(shape=(simulation_length, 2))\n",
    "profit_time = np.zeros(shape=(simulation_length, 2))\n",
    "\n",
    "# Naive Prices\n",
    "naive_prices_time = np.zeros(shape=(simulation_length, 2))\n",
    "naive_prices_time[0, 0] = np.min(competitor_prices_time[0,0]) - 0.1\n",
    "naive_prices_time[0, 1] = np.sort(competitor_prices_time[0,1])[1] - 0.1\n",
    "naive_product_sales = np.zeros(shape=(simulation_length, 2))\n",
    "naive_profit_time = np.zeros(shape=(simulation_length, 2))\n"
   ]
  },
  {
   "cell_type": "code",
   "execution_count": 21,
   "metadata": {
    "collapsed": false
   },
   "outputs": [],
   "source": [
    "for step in range(1, simulation_length):\n",
    "    for i in range(2):\n",
    "        # own sales for previous period\n",
    "        sale_prob = sale_probs[i, 1, price_index(prices_time[step - 1, 0]), price_index(prices_time[step - 1,1])]\n",
    "        if np.random.uniform(0, 1) < sale_prob:\n",
    "            product_sales[step, i] = product_sales[step-1, i] + 1\n",
    "            profit_time[step, i] = profit_time[step-1, i] + prices_time[step-1, i]\n",
    "        else:\n",
    "            product_sales[step, i] = product_sales[step-1, i]\n",
    "            profit_time[step, i] = profit_time[step-1, i]\n",
    "        \n",
    "        # naive sales for previous period    \n",
    "        naive_sale_prob = sale_probs[i, 1, price_index(naive_prices_time[step - 1, 0]), price_index(naive_prices_time[step - 1,1])]\n",
    "        if np.random.uniform(0, 1) < naive_sale_prob:\n",
    "            naive_product_sales[step, i] = naive_product_sales[step-1, i] + 1\n",
    "            naive_profit_time[step, i] = naive_profit_time[step-1, i] + naive_prices_time[step-1, i]\n",
    "        else:\n",
    "            naive_product_sales[step, i] = naive_product_sales[step-1, i]\n",
    "            naive_profit_time[step, i] = naive_profit_time[step-1, i]\n",
    "    \n",
    "        # vary competitor prices and adjust own prices for next period\n",
    "        for j in range(competitors_count):\n",
    "            if np.random.uniform(0, 1) < 0.5:\n",
    "                boost = np.random.uniform(0.8, 1.2)\n",
    "                competitor_prices_time[step, i, j] = round(competitor_prices_time[step - 1, i, j] * boost, 1)\n",
    "                explanatory_vars = [get_explanatory_vars_replica_A(competitor_prices_time[step]),\n",
    "                                    get_explanatory_vars_replica_B(competitor_prices_time[step])]\n",
    "                sale_probs = calculate_sale_probs(beta, explanatory_vars)\n",
    "                opt_prices = bellman_new(sale_probs)\n",
    "                prices_time[step, 0] = opt_prices[0]\n",
    "                prices_time[step, 1] = opt_prices[1]\n",
    "            else:\n",
    "                competitor_prices_time[step, i, j] = competitor_prices_time[step-1, i, j]\n",
    "                prices_time[step, 0] = prices_time[step-1, 0]\n",
    "                prices_time[step, 1] = prices_time[step-1, 1]\n",
    "    # adjust naive prices for next period\n",
    "    naive_prices_time[step, 0] = np.min(competitor_prices_time[step,0]) - 0.1\n",
    "    naive_prices_time[step, 1] = np.sort(competitor_prices_time[step,1])[1] - 0.1"
   ]
  },
  {
   "cell_type": "markdown",
   "metadata": {},
   "source": [
    "### Plots"
   ]
  },
  {
   "cell_type": "code",
   "execution_count": 22,
   "metadata": {
    "collapsed": false
   },
   "outputs": [],
   "source": [
    "# own strategy\n",
    "swap_prices_time = np.swapaxes(prices_time, 0,1)\n",
    "swap_product_sales = np.swapaxes(product_sales, 0,1)\n",
    "swap_profit_time = np.swapaxes(profit_time, 0,1)\n",
    "\n",
    "# naive strategy\n",
    "swap_naive_prices_time = np.swapaxes(naive_prices_time, 0,1)\n",
    "swap_naive_product_sales = np.swapaxes(naive_product_sales, 0,1)\n",
    "swap_naive_profit_time = np.swapaxes(naive_profit_time, 0,1)\n",
    "\n",
    "swap_competitor_prices_time = np.swapaxes(competitor_prices_time, 0,2)"
   ]
  },
  {
   "cell_type": "markdown",
   "metadata": {},
   "source": [
    "#### Product 1: Own Prices and Sales"
   ]
  },
  {
   "cell_type": "code",
   "execution_count": 23,
   "metadata": {
    "collapsed": false
   },
   "outputs": [
    {
     "data": {
      "image/png": "[encoded data removed]",
      "text/plain": [
       "<matplotlib.figure.Figure at 0x1153d4a90>"
      ]
     },
     "metadata": {},
     "output_type": "display_data"
    }
   ],
   "source": [
    "plt.figure(figsize=(20, 4))\n",
    "plt.plot(range(simulation_length), swap_prices_time[0], label='Prices', color=\"blue\", linewidth=2.5)\n",
    "plt.plot(range(simulation_length), swap_product_sales[0], label='Sales', color=\"red\", linewidth=2.5)\n",
    "plt.legend(loc='upper right', prop={'size': 15})\n",
    "plt.show()"
   ]
  },
  {
   "cell_type": "markdown",
   "metadata": {},
   "source": [
    "#### Product 2: Own Prices and Sales"
   ]
  },
  {
   "cell_type": "code",
   "execution_count": 24,
   "metadata": {
    "collapsed": false
   },
   "outputs": [
    {
     "data": {
      "image/png": "[encoded data removed]",
      "text/plain": [
       "<matplotlib.figure.Figure at 0x11a601c50>"
      ]
     },
     "metadata": {},
     "output_type": "display_data"
    }
   ],
   "source": [
    "plt.figure(figsize=(20, 4))\n",
    "plt.plot(range(simulation_length), swap_prices_time[1], label='Prices', color=\"blue\", linewidth=2.5)\n",
    "plt.plot(range(simulation_length), swap_product_sales[1], label='Sales', color=\"red\", linewidth=2.5)\n",
    "plt.legend(loc='upper right', prop={'size': 15})\n",
    "plt.show()"
   ]
  },
  {
   "cell_type": "markdown",
   "metadata": {},
   "source": [
    "#### Product 1: Own Prices and Competitor Prices"
   ]
  },
  {
   "cell_type": "code",
   "execution_count": 25,
   "metadata": {
    "collapsed": false
   },
   "outputs": [
    {
     "data": {
      "image/png": "[encoded data removed]",
      "text/plain": [
       "<matplotlib.figure.Figure at 0x11aca9be0>"
      ]
     },
     "metadata": {},
     "output_type": "display_data"
    }
   ],
   "source": [
    "plt.figure(figsize=(20, 4))\n",
    "plt.plot(range(simulation_length), swap_prices_time[0], label='Prices', linewidth=2.5)\n",
    "for competitor in range(competitors_count):\n",
    "    plt.plot(range(simulation_length), swap_competitor_prices_time[competitor][0], label='Competitor '+str(competitor), linewidth=2.5)\n",
    "plt.legend(loc='upper right', prop={'size': 15})\n",
    "plt.show()"
   ]
  },
  {
   "cell_type": "markdown",
   "metadata": {},
   "source": [
    "#### Product 2: Own Prices and Competitor Prices"
   ]
  },
  {
   "cell_type": "code",
   "execution_count": 26,
   "metadata": {
    "collapsed": false
   },
   "outputs": [
    {
     "data": {
      "image/png": "[encoded data removed]",
      "text/plain": [
       "<matplotlib.figure.Figure at 0x11adf1a20>"
      ]
     },
     "metadata": {},
     "output_type": "display_data"
    }
   ],
   "source": [
    "plt.figure(figsize=(20, 4))\n",
    "plt.plot(range(simulation_length), swap_prices_time[1], label='Prices', linewidth=2.5)\n",
    "for competitor in range(competitors_count):\n",
    "    plt.plot(range(simulation_length), swap_competitor_prices_time[competitor][1], label='Competitor '+str(competitor), linewidth=2.5)\n",
    "\n",
    "plt.legend(loc='upper right', prop={'size': 15})\n",
    "plt.show()"
   ]
  },
  {
   "cell_type": "markdown",
   "metadata": {},
   "source": [
    "#### Profit"
   ]
  },
  {
   "cell_type": "code",
   "execution_count": 27,
   "metadata": {
    "collapsed": false
   },
   "outputs": [
    {
     "data": {
      "image/png": "[encoded data removed]",
      "text/plain": [
       "<matplotlib.figure.Figure at 0x11ae19e48>"
      ]
     },
     "metadata": {},
     "output_type": "display_data"
    }
   ],
   "source": [
    "plt.figure(figsize=(20, 4))\n",
    "plt.plot(range(simulation_length), swap_profit_time[0], label='Profit 1', color=\"blue\", linewidth=2.5)\n",
    "plt.plot(range(simulation_length), swap_profit_time[1], label='Profit 2', color=\"red\", linewidth=2.5)\n",
    "plt.plot(range(simulation_length), np.sum(profit_time,1), label='OveralProfit', color=\"green\", linewidth=2.5)\n",
    "plt.legend(loc='upper left', prop={'size': 15})\n",
    "plt.show()"
   ]
  },
  {
   "cell_type": "markdown",
   "metadata": {},
   "source": [
    "#### Compare to Naive Strategy"
   ]
  },
  {
   "cell_type": "code",
   "execution_count": 28,
   "metadata": {
    "collapsed": false
   },
   "outputs": [
    {
     "data": {
      "image/png": "[encoded data removed]",
      "text/plain": [
       "<matplotlib.figure.Figure at 0x11aeb5cf8>"
      ]
     },
     "metadata": {},
     "output_type": "display_data"
    }
   ],
   "source": [
    "plt.figure(figsize=(20, 4))\n",
    "plt.plot(range(simulation_length), np.sum(profit_time,1), label='Own Overall Profit', color=\"blue\", linewidth=2.5)\n",
    "plt.plot(range(simulation_length), np.sum(naive_profit_time,1), label='Naive Overall Profit', color=\"red\", linewidth=2.5)\n",
    "plt.legend(loc='upper left', prop={'size': 15})\n",
    "plt.show()"
   ]
  },
  {
   "cell_type": "code",
   "execution_count": null,
   "metadata": {
    "collapsed": true
   },
   "outputs": [],
   "source": []
  }
 ],
 "metadata": {
  "kernelspec": {
   "display_name": "Python 3",
   "language": "python",
   "name": "python3"
  },
  "language_info": {
   "codemirror_mode": {
    "name": "ipython",
    "version": 3
   },
   "file_extension": ".py",
   "mimetype": "text/x-python",
   "name": "python",
   "nbconvert_exporter": "python",
   "pygments_lexer": "ipython3",
   "version": "3.5.1"
  }
 },
 "nbformat": 4,
 "nbformat_minor": 0
}
