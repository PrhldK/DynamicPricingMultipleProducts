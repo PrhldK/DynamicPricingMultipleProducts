{
 "cells": [
  {
   "cell_type": "markdown",
   "metadata": {},
   "source": [
    "# Logistic Regression"
   ]
  },
  {
   "cell_type": "code",
   "execution_count": 1,
   "metadata": {
    "collapsed": false
   },
   "outputs": [],
   "source": [
    "import math\n",
    "import numpy as np\n",
    "import pandas as pd\n",
    "import sklearn.linear_model\n",
    "import statsmodels.api as sm\n",
    "import matplotlib.pyplot as plt"
   ]
  },
  {
   "cell_type": "markdown",
   "metadata": {
    "collapsed": true
   },
   "source": [
    "## Simulierte Daten"
   ]
  },
  {
   "cell_type": "code",
   "execution_count": 2,
   "metadata": {
    "collapsed": false
   },
   "outputs": [],
   "source": [
    "def generate_prices(observations_count, prices_range):\n",
    "    return np.random.choice(prices_range, observations_count)\n",
    "\n",
    "def generate_competitor_prices(observations_count, competitors_count, prices_range):\n",
    "    return np.matrix([generate_prices(observations_count, prices_range) for i in range(0, competitors_count)])\n",
    "    \n",
    "def calculate_ranks(observations_count, competitors_count, competitor_prices, prices):\n",
    "    return [1 + len([1 for j in range(competitors_count) if competitor_prices[j,i] < prices[i]])\n",
    "            for i in range(observations_count)]\n",
    "\n",
    "def calculate_sold_probs_A(observations_count, ranks, competitors_count, prices):\n",
    "    max_prob = lambda i: 1 - ((0.3 * ranks[0][i])/(competitors_count[0] + 1)) - 0.05 * prices[0][i] + (-0.0125 * (prices[0][i] - prices[1][i]) + 0.25)\n",
    "    return [np.maximum(0, np.round(np.random.uniform(0, max_prob(i)))) for i in range(observations_count)]\n",
    "\n",
    "def calculate_sold_probs_B(observations_count, ranks, competitors_count, prices):\n",
    "    max_prob = lambda i: 1 - ((0.3 * ranks[1][i])/(competitors_count[1] + 1)) - 0.05 * prices[1][i] + (0.0125 * (prices[0][i] - prices[1][i]) + 0.25)\n",
    "    return [np.maximum(0, np.round(np.random.uniform(0, max_prob(i)))) for i in range(observations_count)]\n",
    "\n",
    "observations_count = 1000\n",
    "prices_ranges = [np.arange(1, 20.1, 0.1) for i in range(2)] #TODO adopt prob function if price changes\n",
    "prices = [generate_prices(observations_count, prices_ranges[i]) for i in range(2)] # TODO p1 > p2?\n",
    "competitors_count = [5, 5]\n",
    "competitor_prices = [generate_competitor_prices(observations_count, competitors_count[i], prices_ranges[i]) for i in range(2)]\n",
    "ranks = [calculate_ranks(observations_count, competitors_count[i], competitor_prices[i], prices[i]) for i in range(2)]\n",
    "sold = [calculate_sold_probs_A(observations_count, ranks, competitors_count, prices),\n",
    "        calculate_sold_probs_B(observations_count, ranks, competitors_count, prices)]"
   ]
  },
  {
   "cell_type": "markdown",
   "metadata": {},
   "source": [
    "## Regression"
   ]
  },
  {
   "cell_type": "code",
   "execution_count": 12,
   "metadata": {
    "collapsed": false
   },
   "outputs": [
    {
     "name": "stdout",
     "output_type": "stream",
     "text": [
      "Optimization terminated successfully.\n",
      "         Current function value: 0.392666\n",
      "         Iterations 7\n",
      "Optimization terminated successfully.\n",
      "         Current function value: 0.362382\n",
      "         Iterations 7\n"
     ]
    },
    {
     "data": {
      "text/plain": [
       "[array([ 0.76827562, -0.57955443, -0.11461301]),\n",
       " array([ 0.94689306, -0.60563729, -0.14848387])]"
      ]
     },
     "execution_count": 12,
     "metadata": {},
     "output_type": "execute_result"
    }
   ],
   "source": [
    "def get_explanatory_vars_A(observations_count, competitors_count, ranks, competitor_prices):\n",
    "    explanatory_1 = [1 for j in range(observations_count)]\n",
    "    explanatory_2 = [ranks[0][j] for j in range(observations_count)]\n",
    "    \n",
    "    def get_all_competitor_prices(j):\n",
    "        for i in range(2):\n",
    "            for k in range(competitors_count[i]):\n",
    "                yield competitor_prices[i][k,j]\n",
    "    explanatory_3 = [prices[0][j] - np.min(list(get_all_competitor_prices(j))) for j in range(observations_count)]\n",
    "    explanatory_4 = [prices[0][j] - np.min([prices[i][j] for i in range(2)]) for j in range(observations_count)]\n",
    "    explanatory_5 = [math.pow(explanatory_4[j], 2) for j in range(observations_count)]\n",
    "    return np.matrix([explanatory_1, explanatory_2, explanatory_3, explanatory_4, explanatory_5])\n",
    "\n",
    "def get_explanatory_vars_B(observations_count, competitors_count, ranks, competitor_prices):\n",
    "    explanatory_1 = [1 for j in range(observations_count)]\n",
    "    explanatory_2 = [ranks[1][j] for j in range(observations_count)]\n",
    "    \n",
    "    def get_all_competitor_prices(j):\n",
    "        for i in range(2):\n",
    "            for k in range(competitors_count[i]):\n",
    "                yield competitor_prices[i][k,j]\n",
    "    explanatory_3 = [prices[1][j] - np.min(list(get_all_competitor_prices(j))) for j in range(observations_count)]\n",
    "    explanatory_4 = [prices[1][j] - np.min([prices[i][j] for i in range(2)]) for j in range(observations_count)]\n",
    "    explanatory_5 = [math.pow(explanatory_4[j], 2) for j in range(observations_count)]\n",
    "    return np.matrix([explanatory_1, explanatory_2, explanatory_3, explanatory_4, explanatory_5])\n",
    "\n",
    "explanatory_vars = [get_explanatory_vars_A(observations_count, competitors_count, ranks, competitor_prices),\n",
    "                    get_explanatory_vars_B(observations_count, competitors_count, ranks, competitor_prices)]\n",
    "logits = [sm.Logit(sold[i], explanatory_vars[i].transpose()) for i in range(2)]\n",
    "results = [logits[i].fit() for i in range(2)]\n",
    "beta = [results[i].params for i in range(2)]\n",
    "beta"
   ]
  },
  {
   "cell_type": "code",
   "execution_count": 13,
   "metadata": {
    "collapsed": false,
    "scrolled": true
   },
   "outputs": [
    {
     "data": {
      "text/plain": [
       "[791.33197388956091, 730.76368256322735]"
      ]
     },
     "execution_count": 13,
     "metadata": {},
     "output_type": "execute_result"
    }
   ],
   "source": [
    "[results[i].aic for i in range(2)]"
   ]
  },
  {
   "cell_type": "markdown",
   "metadata": {},
   "source": [
    "## Optimierung"
   ]
  },
  {
   "cell_type": "code",
   "execution_count": 14,
   "metadata": {
    "collapsed": false
   },
   "outputs": [],
   "source": [
    "def get_price_index(price):\n",
    "    return int(price / 0.1 - 10) # TODO dependent on price range?\n",
    "\n",
    "def calculate_sale_probs(beta, explanatory_vars, prices_range):\n",
    "    L = lambda price: np.sum([beta[m] * explanatory_vars[m,get_price_index(price)] for m in range(explanatory_vars.shape[0])])\n",
    "    return [np.exp(L(price)) / (1 + np.exp(L(price))) for price in prices_range]\n",
    "\n",
    "def bellman(sale_probs, prices_range, delta, values, step):\n",
    "    prob_A = lambda price, i: sale_probs[0, i, get_price_index(price)]\n",
    "    prob_B = lambda price, j: sale_probs[1, j, get_price_index(price)]\n",
    "    todays_profit = lambda prices, j, i: i * prices[j]\n",
    "    disc_exp_fut_profits = delta * values[step + 1]\n",
    "\n",
    "    bellman_for_combinations = []\n",
    "    for price_A in prices_range[0]:\n",
    "        for price_B in prices_range[1]:\n",
    "            bellman_for_combinations.append(np.sum([prob_A(price_A, i) * np.sum([prob_B(price_B, j) * ((todays_profit([price_A, price_B], 0, i)+todays_profit([price_A, price_B], 1, j)) + disc_exp_fut_profits) for j in range(2)]) for i in range(2)]))\n",
    "    return np.max(bellman_for_combinations)\n",
    "\n",
    "def bellman_check(sale_probs, prices, delta, values, step):\n",
    "    prob_A = lambda price, i: sale_probs[0, i, get_price_index(price)]\n",
    "    prob_B = lambda price, j: sale_probs[1, j, get_price_index(price)]\n",
    "    todays_profit = lambda prices, j, i: i * prices[j]\n",
    "    disc_exp_fut_profits = delta * values[step + 1]\n",
    "\n",
    "    return np.sum([prob_A(price_A, i) * np.sum([prob_B(price_B, j) * ((todays_profit([price_A, price_B], 0, i)+todays_profit([price_A, price_B], 1, j)) + disc_exp_fut_profits) for j in range(2)]) for i in range(2)])"
   ]
  },
  {
   "cell_type": "code",
   "execution_count": 15,
   "metadata": {
    "collapsed": false,
    "scrolled": true
   },
   "outputs": [
    {
     "data": {
      "text/plain": [
       "array([ 19.8,  19.5])"
      ]
     },
     "execution_count": 15,
     "metadata": {},
     "output_type": "execute_result"
    }
   ],
   "source": [
    "competitor_prices = [generate_competitor_prices(observations_count, competitors_count[i], prices_ranges[i]) for i in range(2)]\n",
    "explanatory_vars = [get_explanatory_vars_A(observations_count, competitors_count, ranks, competitor_prices),\n",
    "                    get_explanatory_vars_B(observations_count, competitors_count, ranks, competitor_prices)]\n",
    "\n",
    "p = [calculate_sale_probs(beta[i], explanatory_vars[i], prices_ranges[i]) for i in range(2)]\n",
    "sale_probs = np.array([[[1 - j for j in p[i]], p[i]] for i in range(2)])\n",
    "\n",
    "delta = 0.99\n",
    "steps = 100\n",
    "values = np.empty(shape=(steps + 1))\n",
    "for step in range(steps, -1, -1):\n",
    "    if step == steps:\n",
    "        values[step] = 0\n",
    "    else:\n",
    "        values[step] = bellman(sale_probs, prices_ranges, delta, values, step)\n",
    "\n",
    "opt_prices = np.zeros(shape=(2))\n",
    "for price_A in prices_ranges[0]:\n",
    "    for price_B in prices_ranges[1]:\n",
    "        if bellman_check(sale_probs, [price_A, price_B], delta, values, step) == values[0]:\n",
    "            opt_prices[0] = price_A\n",
    "            opt_prices[1] = price_B      \n",
    "opt_prices"
   ]
  },
  {
   "cell_type": "code",
   "execution_count": 16,
   "metadata": {
    "collapsed": false
   },
   "outputs": [
    {
     "data": {
      "text/plain": [
       "array([ 1754.17666058,  1743.94631063,  1733.6126238 ,  1723.1745563 ,\n",
       "        1712.63105377,  1701.98105122,  1691.22347288,  1680.35723214,\n",
       "        1669.38123139,  1658.29436194,  1647.09550392,  1635.78352612,\n",
       "        1624.35728591,  1612.81562914,  1601.15738997,  1589.38139082,\n",
       "        1577.48644217,  1565.47134254,  1553.33487825,  1541.07582342,\n",
       "        1528.69293976,  1516.18497646,  1503.55067009,  1490.78874447,\n",
       "        1477.89791051,  1464.87686611,  1451.72429601,  1438.43887166,\n",
       "        1425.01925111,  1411.46407883,  1397.77198562,  1383.94158844,\n",
       "        1369.97149028,  1355.86028002,  1341.60653227,  1327.20880728,\n",
       "        1312.66565073,  1297.9755936 ,  1283.13715205,  1268.14882726,\n",
       "        1253.00910525,  1237.71645675,  1222.26933706,  1206.66618585,\n",
       "        1190.90542706,  1174.98546868,  1158.90470264,  1142.66150463,\n",
       "        1126.2542339 ,  1109.68123317,  1092.94082839,  1076.03132861,\n",
       "        1058.9510258 ,  1041.69819468,  1024.27109255,  1006.66795907,\n",
       "         988.88701617,   970.92646778,   952.78449972,   934.45927945,\n",
       "         915.94895594,   897.25165947,   878.36550142,   859.2885741 ,\n",
       "         840.01895054,   820.55468432,   800.89380935,   781.03433968,\n",
       "         760.97426931,   740.71157196,   720.24420091,   699.57008873,\n",
       "         678.68714714,   657.59326674,   636.28631684,   614.76414523,\n",
       "         593.02457795,   571.06541907,   548.88445051,   526.47943177,\n",
       "         503.8480997 ,   480.98816832,   457.89732854,   434.57324796,\n",
       "         411.0135706 ,   387.2159167 ,   363.17788246,   338.89703979,\n",
       "         314.37093609,   289.59709397,   264.57301101,   239.29615954,\n",
       "         213.76398634,   187.9739124 ,   161.92333266,   135.60961576,\n",
       "         109.03010373,    82.18211178,    55.062928  ,    27.66981306,\n",
       "           0.        ])"
      ]
     },
     "execution_count": 16,
     "metadata": {},
     "output_type": "execute_result"
    }
   ],
   "source": [
    "values"
   ]
  },
  {
   "cell_type": "code",
   "execution_count": null,
   "metadata": {
    "collapsed": true
   },
   "outputs": [],
   "source": []
  }
 ],
 "metadata": {
  "kernelspec": {
   "display_name": "Python 3",
   "language": "python",
   "name": "python3"
  },
  "language_info": {
   "codemirror_mode": {
    "name": "ipython",
    "version": 3
   },
   "file_extension": ".py",
   "mimetype": "text/x-python",
   "name": "python",
   "nbconvert_exporter": "python",
   "pygments_lexer": "ipython3",
   "version": "3.5.1"
  }
 },
 "nbformat": 4,
 "nbformat_minor": 0
}
