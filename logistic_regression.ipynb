{
 "cells": [
  {
   "cell_type": "markdown",
   "metadata": {},
   "source": [
    "# Logistic Regression"
   ]
  },
  {
   "cell_type": "code",
   "execution_count": 1,
   "metadata": {
    "collapsed": false
   },
   "outputs": [],
   "source": [
    "%matplotlib inline\n",
    "\n",
    "import math\n",
    "import numpy as np\n",
    "import pandas as pd\n",
    "import sklearn.linear_model\n",
    "import statsmodels.api as sm\n",
    "import matplotlib.pyplot as plt"
   ]
  },
  {
   "cell_type": "markdown",
   "metadata": {
    "collapsed": true
   },
   "source": [
    "## Simulierte Daten"
   ]
  },
  {
   "cell_type": "code",
   "execution_count": 2,
   "metadata": {
    "collapsed": false
   },
   "outputs": [],
   "source": [
    "observations_count = 1000\n",
    "def generate_prices(number):\n",
    "    return [np.round(np.random.uniform(1,20), decimals=1) for i in range(0, number)]\n",
    "\n",
    "prices = generate_prices(observations_count)\n",
    "competitors_count = 5\n",
    "competitor_prices = np.matrix([generate_prices(observations_count) for i in range(0, competitors_count)])\n",
    "ranks = [1 + len([1 for j in range(0, competitors_count) if competitor_prices[j,i] < prices[i]]) \n",
    "         for i in range(0, observations_count)]\n",
    "sold = [np.maximum(0, np.round(np.random.uniform(0, 1-0.3*ranks[i]/(competitors_count+1)-0.05*prices[i]))) \n",
    "        for i in range(0, observations_count)]"
   ]
  },
  {
   "cell_type": "markdown",
   "metadata": {},
   "source": [
    "## Regression"
   ]
  },
  {
   "cell_type": "code",
   "execution_count": 3,
   "metadata": {
    "collapsed": false
   },
   "outputs": [
    {
     "name": "stdout",
     "output_type": "stream",
     "text": [
      "Optimization terminated successfully.\n",
      "         Current function value: 0.190000\n",
      "         Iterations 9\n"
     ]
    },
    {
     "data": {
      "text/plain": [
       "array([ 0.18886591, -1.05916984, -0.09550056])"
      ]
     },
     "execution_count": 3,
     "metadata": {},
     "output_type": "execute_result"
    }
   ],
   "source": [
    "explanatory_count = 3\n",
    "explanatory = np.matrix([[1 for j in range(0, observations_count)],\n",
    "                        [ranks[j] for j in range(0, observations_count)],\n",
    "                        [prices[j] - np.min([competitor_prices[k,j] for k in range(competitors_count)]) for j in range(observations_count)]])\n",
    "logit = sm.Logit(sold, explanatory.transpose())\n",
    "result = logit.fit()\n",
    "beta = result.params\n",
    "beta"
   ]
  },
  {
   "cell_type": "code",
   "execution_count": 4,
   "metadata": {
    "collapsed": false
   },
   "outputs": [
    {
     "data": {
      "text/plain": [
       "385.99994822778376"
      ]
     },
     "execution_count": 4,
     "metadata": {},
     "output_type": "execute_result"
    }
   ],
   "source": [
    "result.aic"
   ]
  },
  {
   "cell_type": "markdown",
   "metadata": {},
   "source": [
    "## Optimierung"
   ]
  },
  {
   "cell_type": "code",
   "execution_count": 5,
   "metadata": {
    "collapsed": false
   },
   "outputs": [
    {
     "data": {
      "text/plain": [
       "array([ 20. ,  12.4,  10.3,  10.3,  10.3,  10.3,  10.1,   9.5,   5.3,\n",
       "         5.3,   5.3])"
      ]
     },
     "execution_count": 5,
     "metadata": {},
     "output_type": "execute_result"
    }
   ],
   "source": [
    "def get_price_index(price):\n",
    "    return price / 0.1 - 10\n",
    "\n",
    "beta_demand = [-0.650712, -0.489148, -0.174551]\n",
    "competitor_prices = [10.4, 12.5, 13.0, 5.4, 15.6]\n",
    "prices_range = np.arange(1, 20.1, 0.1)\n",
    "delta = 0.99\n",
    "holding_cost_rate = 0.01\n",
    "init_inventory = 10\n",
    "steps = 100\n",
    "\n",
    "\n",
    "data = []\n",
    "for i in range(explanatory_count):\n",
    "    if i == 0:\n",
    "        data.append([1 for price in prices_range])\n",
    "    elif i == 1:\n",
    "        data.append([1 + len([1 for j in range(0, competitors_count) if competitor_prices[j] < price]) for price in prices_range])\n",
    "    else:\n",
    "        data.append([price - np.min([competitor_prices[j] for j in range(competitors_count)]) for price in prices_range])\n",
    "explanatory = np.matrix(data)\n",
    "\n",
    "data = []\n",
    "for i in range(2):\n",
    "    p = [np.exp(np.sum([beta_demand[m]*explanatory[m,get_price_index(price)] for m in range(explanatory_count)])) / (1 + np.exp(np.sum([beta_demand[m]*explanatory[m,get_price_index(price)] for m in range(explanatory_count)]))) for price in prices_range]\n",
    "    if i == 1:\n",
    "        data.append(p)\n",
    "    else:\n",
    "        data.append([1-j for j in p])\n",
    "sale_prob = np.matrix(data)\n",
    "\n",
    "values = np.empty(shape=(steps+1, init_inventory + 1))\n",
    "for step in range(steps, -1, -1):\n",
    "    for n in range(init_inventory + 1):\n",
    "        if step == steps or n == 0:\n",
    "            values[step, n] = 0\n",
    "        else:\n",
    "            values[step, n] = np.max([np.sum([sale_prob[i,get_price_index(price)]*(np.min([n,i]) * price - n * holding_cost_rate + delta * values[step+1, np.max([0, n-i])]) for i in range(2)]) for price in prices_range])\n",
    "\n",
    "def opt_p(t):\n",
    "    opt_prices = np.empty(init_inventory + 1)\n",
    "    for n in range(init_inventory + 1):\n",
    "        for price in prices_range:\n",
    "            if np.sum([sale_prob[i,get_price_index(price)]*(np.min([n,i]) * price - n * holding_cost_rate + delta * values[t+1, np.max([0, n-i])]) for i in range(2)]) == values[t, n]:\n",
    "                opt_prices[n] = price\n",
    "                \n",
    "    return opt_prices\n",
    "                \n",
    "opt_values = [values[0,n] for n in range(init_inventory + 1)]\n",
    "opt_prices = opt_p(0)\n",
    "opt_prices"
   ]
  },
  {
   "cell_type": "markdown",
   "metadata": {
    "collapsed": true
   },
   "source": [
    "## Simulation"
   ]
  },
  {
   "cell_type": "code",
   "execution_count": 6,
   "metadata": {
    "collapsed": false,
    "scrolled": true
   },
   "outputs": [
    {
     "data": {
      "text/plain": [
       "array([ 10.,  10.,  10.,  10.,  10.,  10.,  10.,  10.,  10.,  10.,  10.,\n",
       "        10.,  10.,  10.,  10.,  10.,  10.,  10.,  10.,  10.,  10.,  10.,\n",
       "        10.,  10.,  10.,  10.,  10.,  10.,  10.,  10.,  10.,  10.,  10.,\n",
       "        10.,  10.,  10.,  10.,  10.,  10.,  10.,  10.,  10.,  10.,  10.,\n",
       "        10.,  10.,  10.,  10.,  10.,  10.,  10.,  10.,  10.,  10.,  10.,\n",
       "         9.,   8.,   8.,   8.,   8.,   8.,   8.,   8.,   8.,   8.,   8.,\n",
       "         8.,   8.,   8.,   8.,   8.,   8.,   8.,   8.,   8.,   8.,   8.,\n",
       "         8.,   8.,   8.,   8.,   8.,   8.,   8.,   8.,   8.,   8.,   8.,\n",
       "         8.,   8.,   8.,   8.,   8.,   8.,   8.,   8.,   8.,   8.,   8.,\n",
       "         8.])"
      ]
     },
     "execution_count": 6,
     "metadata": {},
     "output_type": "execute_result"
    }
   ],
   "source": [
    "c_prices_time = np.empty(shape=(competitors_count, steps+1))\n",
    "for c in range(competitors_count):\n",
    "    c_prices_time[c,0] = competitor_prices[c]\n",
    "inventory_time = np.empty(shape=(steps))\n",
    "for t in range(steps):\n",
    "    inventory_time[t] = init_inventory\n",
    "o_prices_time = np.zeros(shape=(steps+1))\n",
    "o_prices_time[0] = opt_prices[init_inventory]\n",
    "\n",
    "for t in range(1,steps):\n",
    "    if ((inventory_time[t] > 0) and (np.random.uniform(0,1) < sale_prob[1,get_price_index(o_prices_time[t-1])])):\n",
    "        inventory_time[t] = np.max([0, inventory_time[t-1]-1])\n",
    "    else:\n",
    "        inventory_time[t] = inventory_time[t-1]\n",
    "        \n",
    "    #for c in range(competitors_count):\n",
    "        #if (np.random.uniform(0,1) < 0.2):\n",
    "            #c_prices_time[c,t]= np.round(c_prices_time[c,t-1] * np.random.uniform(0.8, 1.2), 1)\n",
    "            \n",
    "    if (inventory_time[t] > 0):\n",
    "        opt_prices_n = opt_p(t)\n",
    "        o_prices_time[t] = opt_prices_n[int(inventory_time[t])]\n",
    "inventory_time"
   ]
  },
  {
   "cell_type": "code",
   "execution_count": 9,
   "metadata": {
    "collapsed": false
   },
   "outputs": [
    {
     "data": {
      "text/plain": [
       "array([ 5.3,  5.3,  5.2,  5.2,  5.2,  5.3,  5.3,  5.2,  5.2,  5.2,  5.3,\n",
       "        5.3,  5.3,  5.3,  5.3,  5.3,  5.2,  5.2,  5.3,  5.3,  5.3,  5.4,\n",
       "        5.4,  5.4,  5.3,  5.5,  5.5,  5.3,  5.3,  5.4,  5.3,  5.3,  5.3,\n",
       "        5.3,  5.3,  5.4,  5.3,  5.3,  5.4,  5.3,  5.3,  5.4,  5.4,  5.4,\n",
       "        5.4,  5.4,  5.4,  5.5,  5.5,  5.4,  5.4,  5.4,  5.5,  5.4,  5.5,\n",
       "        5.5,  5.5,  5.5,  5.5,  5.5,  5.5,  5.5,  5.5,  5.5,  5.5,  5.5,\n",
       "        5.5,  5.6,  5.5,  5.5,  5.5,  5.6,  5.6,  5.6,  5.7,  5.8,  5.6,\n",
       "        5.6,  5.7,  5.6,  5.7,  5.7,  5.6,  5.7,  5.7,  5.7,  5.7,  5.7,\n",
       "        5.7,  5.7,  5.7,  5.7,  5.8,  5.8,  5.8,  5.7,  5.8,  5.9,  5.8,\n",
       "        5.8,  0. ])"
      ]
     },
     "execution_count": 9,
     "metadata": {},
     "output_type": "execute_result"
    }
   ],
   "source": [
    "o_prices_time"
   ]
  },
  {
   "cell_type": "code",
   "execution_count": 8,
   "metadata": {
    "collapsed": false,
    "scrolled": true
   },
   "outputs": [
    {
     "data": {
      "image/png": "[encoded data removed]",
      "text/plain": [
       "<matplotlib.figure.Figure at 0x121e4c30>"
      ]
     },
     "metadata": {},
     "output_type": "display_data"
    }
   ],
   "source": [
    "plt.plot(range(0,101),o_prices_time)\n",
    "plt.axis([0,101,0,20])\n",
    "plt.show()"
   ]
  },
  {
   "cell_type": "code",
   "execution_count": null,
   "metadata": {
    "collapsed": true
   },
   "outputs": [],
   "source": []
  }
 ],
 "metadata": {
  "kernelspec": {
   "display_name": "Python 2",
   "language": "python",
   "name": "python2"
  },
  "language_info": {
   "codemirror_mode": {
    "name": "ipython",
    "version": 2
   },
   "file_extension": ".py",
   "mimetype": "text/x-python",
   "name": "python",
   "nbconvert_exporter": "python",
   "pygments_lexer": "ipython2",
   "version": "2.7.11"
  }
 },
 "nbformat": 4,
 "nbformat_minor": 0
}
