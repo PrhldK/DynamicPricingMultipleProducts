{
 "cells": [
  {
   "cell_type": "markdown",
   "metadata": {},
   "source": [
    "# Logistic Regression"
   ]
  },
  {
   "cell_type": "code",
   "execution_count": 1,
   "metadata": {
    "collapsed": false
   },
   "outputs": [],
   "source": [
    "import math\n",
    "import numpy as np\n",
    "import pandas as pd\n",
    "import sklearn.linear_model\n",
    "import statsmodels.api as sm\n",
    "import matplotlib.pyplot as plt"
   ]
  },
  {
   "cell_type": "markdown",
   "metadata": {
    "collapsed": true
   },
   "source": [
    "## Simulierte Daten"
   ]
  },
  {
   "cell_type": "code",
   "execution_count": 8,
   "metadata": {
    "collapsed": false
   },
   "outputs": [],
   "source": [
    "observations_count = 1000\n",
    "def generate_prices(number):\n",
    "    return [np.round(np.random.uniform(1,20), decimals=1) for i in range(0, number)]\n",
    "\n",
    "prices = generate_prices(observations_count)\n",
    "competitors_count = 5\n",
    "competitor_prices = np.matrix([generate_prices(observations_count) for i in range(0, competitors_count)])\n",
    "ranks = [1 + len([1 for j in range(0, competitors_count) if competitor_prices[j,i] < prices[i]]) \n",
    "         for i in range(0, observations_count)]\n",
    "sold = [np.maximum(0, np.round(np.random.uniform(0, 1-0.3*ranks[i]/(competitors_count+1)-0.05*prices[i]))) \n",
    "        for i in range(0, observations_count)]"
   ]
  },
  {
   "cell_type": "markdown",
   "metadata": {},
   "source": [
    "## Regression"
   ]
  },
  {
   "cell_type": "code",
   "execution_count": 9,
   "metadata": {
    "collapsed": false
   },
   "outputs": [
    {
     "name": "stdout",
     "output_type": "stream",
     "text": [
      "Optimization terminated successfully.\n",
      "         Current function value: 0.193779\n",
      "         Iterations 9\n"
     ]
    },
    {
     "data": {
      "text/plain": [
       "array([ 0.40253993, -1.19460324, -0.07884095])"
      ]
     },
     "execution_count": 9,
     "metadata": {},
     "output_type": "execute_result"
    }
   ],
   "source": [
    "explanatory_count = 3\n",
    "explanatory = np.matrix([[1 for j in range(0, observations_count)],\n",
    "                        [ranks[j] for j in range(0, observations_count)],\n",
    "                        [prices[j] - np.min([competitor_prices[k,j] for k in range(competitors_count)]) for j in range(observations_count)]])\n",
    "logit = sm.Logit(sold, explanatory.transpose())\n",
    "result = logit.fit()\n",
    "beta = result.params\n",
    "beta"
   ]
  },
  {
   "cell_type": "code",
   "execution_count": 10,
   "metadata": {
    "collapsed": false
   },
   "outputs": [
    {
     "data": {
      "text/plain": [
       "393.55890898134874"
      ]
     },
     "execution_count": 10,
     "metadata": {},
     "output_type": "execute_result"
    }
   ],
   "source": [
    "result.aic"
   ]
  },
  {
   "cell_type": "markdown",
   "metadata": {},
   "source": [
    "## Optimierung"
   ]
  },
  {
   "cell_type": "code",
   "execution_count": 11,
   "metadata": {
    "collapsed": false
   },
   "outputs": [
    {
     "data": {
      "text/plain": [
       "array([[  0.        ,   9.60570105,  18.04630901, ...,  60.85064081,\n",
       "         63.4749784 ,  65.97211629],\n",
       "       [  0.        ,   9.60564513,  18.0457704 , ...,  60.77071395,\n",
       "         63.39070622,  65.8832119 ],\n",
       "       [  0.        ,   9.60558359,  18.04518313, ...,  60.68864026,\n",
       "         63.30419062,  65.79190908],\n",
       "       ..., \n",
       "       [  0.        ,   2.77341883,   3.2689422 , ...,   3.0699422 ,\n",
       "          3.0500422 ,   3.0301422 ],\n",
       "       [  0.        ,   1.6511253 ,   1.6411253 , ...,   1.5411253 ,\n",
       "          1.5311253 ,   1.5211253 ],\n",
       "       [  0.        ,   0.        ,   0.        , ...,   0.        ,\n",
       "          0.        ,   0.        ]])"
      ]
     },
     "execution_count": 11,
     "metadata": {},
     "output_type": "execute_result"
    }
   ],
   "source": [
    "def get_price_index(price):\n",
    "    return price / 0.1 - 10\n",
    "\n",
    "beta_demand = beta\n",
    "competitor_prices = generate_prices(competitors_count)\n",
    "prices_range = np.arange(1, 20.1, 0.1)\n",
    "data = []\n",
    "for i in range(explanatory_count):\n",
    "    if i == 0:\n",
    "        data.append([1 for price in prices_range])\n",
    "    elif i == 1:\n",
    "        data.append([1 + len([1 for j in range(0, competitors_count) if competitor_prices[j] < price]) for price in prices_range])\n",
    "    else:\n",
    "        data.append([price - np.min([competitor_prices[j] for j in range(competitors_count)]) for price in prices_range])\n",
    "explanatory = np.matrix(data)\n",
    "\n",
    "data = []\n",
    "for i in range(2):\n",
    "    p = [np.exp(np.sum([beta_demand[m]*explanatory[m,get_price_index(price)] for m in range(explanatory_count)])) / (1 + np.exp(np.sum([beta_demand[m]*explanatory[m,get_price_index(price)] for m in range(explanatory_count)]))) for price in prices_range]\n",
    "    if i == 1:\n",
    "        data.append(p)\n",
    "    else:\n",
    "        data.append([1-j for j in p])\n",
    "sale_prob = np.matrix(data)\n",
    "\n",
    "delta = 0.99\n",
    "holding_cost_rate = 0.01\n",
    "init_inventory = 15\n",
    "steps = 100\n",
    "values = np.empty(shape=(steps+1, init_inventory))\n",
    "for step in range(steps, -1, -1):\n",
    "    for n in range(init_inventory):\n",
    "        if step == steps or n == 0:\n",
    "            values[step, n] = 0\n",
    "        else:\n",
    "            values[step, n] = np.max([np.sum([sale_prob[i,get_price_index(price)]*(np.min([n,i]) * price - n * holding_cost_rate + delta * values[step+1, np.max([0, n-i])]) for i in range(2)]) for price in prices_range])\n",
    "\n",
    "opt_prices = np.empty(init_inventory)\n",
    "for n in range(init_inventory):\n",
    "    for price in prices_range:\n",
    "        if np.sum([sale_prob[i,get_price_index(price)]*(np.min([n,i]) * price - n * holding_cost_rate + delta * values[1, np.max([0, n-i])]) for i in range(2)]) == values[0, n]:\n",
    "            opt_prices[n] = price\n",
    "opt_values = [values[0,n] for n in range(init_inventory)]\n",
    "opt_prices\n",
    "values"
   ]
  },
  {
   "cell_type": "code",
   "execution_count": null,
   "metadata": {
    "collapsed": true
   },
   "outputs": [],
   "source": []
  }
 ],
 "metadata": {
  "kernelspec": {
   "display_name": "Python 3",
   "language": "python",
   "name": "python3"
  },
  "language_info": {
   "codemirror_mode": {
    "name": "ipython",
    "version": 3
   },
   "file_extension": ".py",
   "mimetype": "text/x-python",
   "name": "python",
   "nbconvert_exporter": "python",
   "pygments_lexer": "ipython3",
   "version": "3.5.1"
  }
 },
 "nbformat": 4,
 "nbformat_minor": 0
}
