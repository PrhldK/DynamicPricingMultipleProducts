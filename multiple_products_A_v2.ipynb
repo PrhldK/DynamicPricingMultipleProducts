{
 "cells": [
  {
   "cell_type": "markdown",
   "metadata": {},
   "source": [
    "# Logistic Regression"
   ]
  },
  {
   "cell_type": "code",
   "execution_count": 1,
   "metadata": {
    "collapsed": false
   },
   "outputs": [],
   "source": [
    "import math\n",
    "import numpy as np\n",
    "import pandas as pd\n",
    "import sklearn.linear_model\n",
    "import statsmodels.api as sm\n",
    "import matplotlib.pyplot as plt"
   ]
  },
  {
   "cell_type": "markdown",
   "metadata": {
    "collapsed": true
   },
   "source": [
    "## Simulierte Daten"
   ]
  },
  {
   "cell_type": "code",
   "execution_count": 2,
   "metadata": {
    "collapsed": false
   },
   "outputs": [],
   "source": [
    "def generate_prices(observations_count, prices_range):\n",
    "    return np.random.choice(prices_range, observations_count)\n",
    "\n",
    "def generate_competitor_prices(observations_count, competitors_count, prices_range):\n",
    "    return np.matrix([generate_prices(observations_count, prices_range) for i in range(0, competitors_count)])\n",
    "    \n",
    "def calculate_ranks(observations_count, competitors_count, competitor_prices, prices):\n",
    "    return [1 + len([1 for j in range(competitors_count) if competitor_prices[j,i] < prices[i]])\n",
    "            for i in range(observations_count)]\n",
    "\n",
    "def calculate_sold_probs_A(observations_count, ranks, competitors_count, prices):\n",
    "    max_prob = lambda i: 1 - ((0.3 * ranks[0][i])/(competitors_count[0] + 1)) - 0.05 * prices[0][i] + (-0.0125 * (prices[0][i] - prices[1][i]) + 0.25)\n",
    "    return [np.maximum(0, np.round(np.random.uniform(0, max_prob(i)))) for i in range(observations_count)]\n",
    "\n",
    "def calculate_sold_probs_B(observations_count, ranks, competitors_count, prices):\n",
    "    max_prob = lambda i: 1 - ((0.3 * ranks[1][i])/(competitors_count[1] + 1)) - 0.05 * prices[1][i] + (0.0125 * (prices[0][i] - prices[1][i]) + 0.25)\n",
    "    return [np.maximum(0, np.round(np.random.uniform(0, max_prob(i)))) for i in range(observations_count)]\n",
    "\n",
    "observations_count = 1000\n",
    "prices_ranges = [np.arange(1, 20.1, 0.1) for i in range(2)] #TODO adopt prob function if price changes\n",
    "prices = [generate_prices(observations_count, prices_ranges[i]) for i in range(2)] # TODO p1 > p2?\n",
    "competitors_count = [5, 5]\n",
    "competitor_prices = [generate_competitor_prices(observations_count, competitors_count[i], prices_ranges[i]) for i in range(2)]\n",
    "ranks = [calculate_ranks(observations_count, competitors_count[i], competitor_prices[i], prices[i]) for i in range(2)]\n",
    "sold = [calculate_sold_probs_A(observations_count, ranks, competitors_count, prices),\n",
    "        calculate_sold_probs_B(observations_count, ranks, competitors_count, prices)]"
   ]
  },
  {
   "cell_type": "markdown",
   "metadata": {},
   "source": [
    "## Regression"
   ]
  },
  {
   "cell_type": "code",
   "execution_count": 3,
   "metadata": {
    "collapsed": false
   },
   "outputs": [
    {
     "name": "stdout",
     "output_type": "stream",
     "text": [
      "Optimization terminated successfully.\n",
      "         Current function value: 0.373144\n",
      "         Iterations 7\n",
      "Optimization terminated successfully.\n",
      "         Current function value: 0.372541\n",
      "         Iterations 7\n"
     ]
    },
    {
     "data": {
      "text/plain": [
       "[array([ 0.33549798, -0.32205495, -0.19359509]),\n",
       " array([ 0.45311463, -0.35291189, -0.18994164])]"
      ]
     },
     "execution_count": 3,
     "metadata": {},
     "output_type": "execute_result"
    }
   ],
   "source": [
    "def get_explanatory_vars_A(observations_count, competitors_count, ranks, competitor_prices):\n",
    "    explanatory_1 = [1 for j in range(observations_count)]\n",
    "    explanatory_2 = [ranks[0][j] for j in range(observations_count)]\n",
    "    explanatory_3 = [prices[0][j] - np.min([competitor_prices[0][k,j] for k in range(0, competitors_count[0])]) for j in range(observations_count)]\n",
    "    return np.matrix([explanatory_1, explanatory_2, explanatory_3])\n",
    "\n",
    "def get_explanatory_vars_B(observations_count, competitors_count, ranks, competitor_prices):\n",
    "    explanatory_1 = [1 for j in range(observations_count)]\n",
    "    explanatory_2 = [ranks[1][j] for j in range(observations_count)]\n",
    "    explanatory_3 = [prices[1][j] - np.min([competitor_prices[1][k,j] for k in range(0, competitors_count[1])]) for j in range(observations_count)]\n",
    "    return np.matrix([explanatory_1, explanatory_2, explanatory_3])\n",
    "\n",
    "explanatory_vars = [get_explanatory_vars_A(observations_count, competitors_count, ranks, competitor_prices),\n",
    "                    get_explanatory_vars_B(observations_count, competitors_count, ranks, competitor_prices)]\n",
    "logits = [sm.Logit(sold[i], explanatory_vars[i].transpose()) for i in range(2)]\n",
    "results = [logits[i].fit() for i in range(2)]\n",
    "beta = [results[i].params for i in range(2)]\n",
    "beta"
   ]
  },
  {
   "cell_type": "code",
   "execution_count": 4,
   "metadata": {
    "collapsed": false,
    "scrolled": true
   },
   "outputs": [
    {
     "data": {
      "text/plain": [
       "[752.2887147929921, 751.08238236782631]"
      ]
     },
     "execution_count": 4,
     "metadata": {},
     "output_type": "execute_result"
    }
   ],
   "source": [
    "[results[i].aic for i in range(2)]"
   ]
  },
  {
   "cell_type": "markdown",
   "metadata": {},
   "source": [
    "## Optimierung"
   ]
  },
  {
   "cell_type": "code",
   "execution_count": 5,
   "metadata": {
    "collapsed": false
   },
   "outputs": [],
   "source": [
    "def get_price_index(price):\n",
    "    return int(price / 0.1 - 10) # TODO dependent on price range?\n",
    "\n",
    "def calculate_sale_probs(beta, explanatory_vars, prices_range):\n",
    "    L = lambda price: np.sum([beta[m] * explanatory_vars[m,get_price_index(price)] for m in range(explanatory_vars.shape[0])])\n",
    "    return [np.exp(L(price)) / (1 + np.exp(L(price))) for price in prices_range]\n",
    "\n",
    "def bellman(n, sale_probs, prices_range, holding_cost_rate, delta, values, step):\n",
    "    prob_A = lambda price, i: sale_probs[0, i, get_price_index(price)]\n",
    "    prob_B = lambda price, j: sale_probs[1, j, get_price_index(price)]\n",
    "    todays_profit = lambda prices, j, i: np.min([n[j], i]) * prices[j] - n[j] * holding_cost_rate[j]\n",
    "    disc_exp_fut_profits = lambda i, j: delta * values[step + 1, np.max([0, n[0]-i]), np.max([0, n[1]-j])]\n",
    "\n",
    "    bellman_for_combinations = []\n",
    "    for price_A in prices_range[0]:\n",
    "        for price_B in prices_range[1]:\n",
    "            bellman_for_combinations.append(np.sum([prob_A(price_A, i) * np.sum([prob_B(price_B, j) * ((todays_profit([price_A, price_B], 0, i)+todays_profit([price_A, price_B], 1, j)) + disc_exp_fut_profits(i,j)) for j in range(2)]) for i in range(2)]))\n",
    "    return np.max(bellman_for_combinations)\n",
    "\n",
    "def bellman_check(n, sale_probs, prices, holding_cost_rate, delta, values, step):\n",
    "    prob_A = lambda price, i: sale_probs[0, i, get_price_index(price)]\n",
    "    prob_B = lambda price, j: sale_probs[1, j, get_price_index(price)]\n",
    "    todays_profit = lambda prices, j, i: np.min([n[j], i]) * prices[j] - n[j] * holding_cost_rate[j]\n",
    "    disc_exp_fut_profits = lambda i, j: delta * values[step + 1, np.max([0, n[0]-i]), np.max([0, n[1]-j])]\n",
    "\n",
    "    return np.sum([prob_A(price_A, i) * np.sum([prob_B(price_B, j) * ((todays_profit([price_A, price_B], 0, i)+todays_profit([price_A, price_B], 1, j)) + disc_exp_fut_profits(i,j)) for j in range(2)]) for i in range(2)])"
   ]
  },
  {
   "cell_type": "code",
   "execution_count": 6,
   "metadata": {
    "collapsed": false,
    "scrolled": true
   },
   "outputs": [
    {
     "name": "stdout",
     "output_type": "stream",
     "text": [
      "n_A: 0,n_B: 0 - A: 0.0,B: 0.0\n",
      "n_A: 0,n_B: 1 - A: 0.0,B: 0.0\n",
      "n_A: 0,n_B: 2 - A: 0.0,B: 0.0\n",
      "n_A: 1,n_B: 0 - A: 0.0,B: 0.0\n",
      "n_A: 1,n_B: 1 - A: 17.0,B: 17.1\n",
      "n_A: 1,n_B: 2 - A: 15.0,B: 19.4\n",
      "n_A: 2,n_B: 0 - A: 0.0,B: 0.0\n",
      "n_A: 2,n_B: 1 - A: 19.9,B: 11.5\n",
      "n_A: 2,n_B: 2 - A: 19.9,B: 19.4\n"
     ]
    }
   ],
   "source": [
    "competitor_prices = [generate_competitor_prices(observations_count, competitors_count[i], prices_ranges[i]) for i in range(2)]\n",
    "explanatory_vars = [get_explanatory_vars_A(observations_count, competitors_count, ranks, competitor_prices),\n",
    "                    get_explanatory_vars_B(observations_count, competitors_count, ranks, competitor_prices)]\n",
    "\n",
    "p = [calculate_sale_probs(beta[i], explanatory_vars[i], prices_ranges[i]) for i in range(2)]\n",
    "sale_probs = np.array([[[1 - j for j in p[i]], p[i]] for i in range(2)])\n",
    "\n",
    "delta = 0.99\n",
    "holding_cost_rate = [0.01, 0.01]\n",
    "init_inventory = [2, 2]\n",
    "steps = 3\n",
    "values = np.empty(shape=(steps + 1, init_inventory[0] + 1, init_inventory[1] + 1))\n",
    "for step in range(steps, -1, -1):\n",
    "    for n_A in range(init_inventory[0] + 1):\n",
    "        for n_B in range(init_inventory[1] + 1):\n",
    "            if step == steps or n_A == 0 or n_B == 0:\n",
    "                values[step, n_A, n_B] = 0\n",
    "            else:\n",
    "                values[step, n_A, n_B] = bellman([n_A, n_B], sale_probs, prices_ranges, holding_cost_rate, delta, values, step)\n",
    "\n",
    "opt_prices = np.zeros(shape=(init_inventory[0] + 1, init_inventory[1] + 1, 2))\n",
    "for n_A in range(1, init_inventory[0] + 1):\n",
    "    for n_B in range(1, init_inventory[1] + 1):\n",
    "        for price_A in prices_ranges[0]:\n",
    "            for price_B in prices_ranges[1]:\n",
    "                if bellman_check([n_A, n_B], sale_probs, [price_A, price_B], holding_cost_rate, delta, values, step) == values[0, n_A, n_B]:\n",
    "                    opt_prices[n_A, n_B, 0] = price_A\n",
    "                    opt_prices[n_A, n_B, 1] = price_B\n",
    "for n_A in range(init_inventory[0] + 1):\n",
    "    for n_B in range(init_inventory[1] + 1):\n",
    "        print 'n_A: ' + str(n_A) + ',n_B: ' + str(n_B) + ' - A: ' + str(opt_prices[n_A, n_B, 0]) + ',B: ' + str(opt_prices[n_A, n_B, 1])"
   ]
  },
  {
   "cell_type": "code",
   "execution_count": null,
   "metadata": {
    "collapsed": true
   },
   "outputs": [],
   "source": []
  }
 ],
 "metadata": {
  "kernelspec": {
   "display_name": "Python 2",
   "language": "python",
   "name": "python2"
  },
  "language_info": {
   "codemirror_mode": {
    "name": "ipython",
    "version": 2
   },
   "file_extension": ".py",
   "mimetype": "text/x-python",
   "name": "python",
   "nbconvert_exporter": "python",
   "pygments_lexer": "ipython2",
   "version": "2.7.11"
  }
 },
 "nbformat": 4,
 "nbformat_minor": 0
}
